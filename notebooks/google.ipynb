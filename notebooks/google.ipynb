{
 "cells": [
  {
   "cell_type": "markdown",
   "metadata": {},
   "source": [
    "# Scraping Google Jobs\n",
    "\n",
    "Google jobs has their filters in the URL, so we simply need Pylenium to visit a URL to start scraping.\n",
    "\n",
    "> This is actually pretty powerful now, so it's something I'd recommend people use!\n",
    "\n",
    "Unlike other job sites, like Indeed, Google's results are _almost_ always relevant when it comes to jobs"
   ]
  },
  {
   "cell_type": "code",
   "execution_count": 1,
   "metadata": {},
   "outputs": [
    {
     "data": {
      "text/plain": [
       "<pylenium.driver.Pylenium at 0x11076a440>"
      ]
     },
     "execution_count": 1,
     "metadata": {},
     "output_type": "execute_result"
    }
   ],
   "source": [
    "from pylenium.driver import Pylenium, PyleniumConfig, Keys\n",
    "\n",
    "py = Pylenium(PyleniumConfig())\n",
    "py.visit(\"https://www.google.com/search?q=QA+Engineer+jobs+utah\")\n",
    "py.getx(\"//a[contains(., 'more jobs')]\").click()"
   ]
  },
  {
   "cell_type": "code",
   "execution_count": 2,
   "metadata": {},
   "outputs": [],
   "source": [
    "jobs = []\n",
    "share_link = None\n",
    "results = py.find(\"[aria-label='Jobs list'] li [role='treeitem']\")\n",
    "\n",
    "for result in results:\n",
    "    # 1. Collect its short content\n",
    "    content = result.text()\n",
    "    jobs.append(content)\n",
    "\n",
    "    if share_link is None:\n",
    "        # 2. Click on the Share button within the Details Page\n",
    "        page = py.get(\"div#gws-plugins-horizon-jobs__job_details_page\")\n",
    "        page.get(\"div[aria-label='Share'][role='button']\").click(force=True)\n",
    "\n",
    "        # 3. Find the shareable link\n",
    "        share = py.find(\"[aria-label='Share'][role='dialog'] input\").last()\n",
    "        py.wait().until(lambda _: share.get_attribute(\"value\").startswith(\"https://g.co\"))\n",
    "        share_link = share.get_attribute(\"value\")\n",
    "\n",
    "        # 4. Close the dialog\n",
    "        share.type(Keys.ESCAPE)"
   ]
  },
  {
   "cell_type": "code",
   "execution_count": 3,
   "metadata": {},
   "outputs": [
    {
     "name": "stdout",
     "output_type": "stream",
     "text": [
      "https://g.co/kgs/zLAeDnY\n",
      "Jobs found: 20\n",
      "---\n",
      "QA Automation Engineer\n",
      "Dyno Nobel\n",
      "Salt Lake City, UT\n",
      "via LinkedIn\n",
      "21 hours ago\n",
      "Full-time\n",
      "Health insurance\n",
      "Dental insurance\n",
      "Paid time off\n",
      "\n",
      "Software Quality Assurance Engineer, Document Systems\n",
      "Tesla\n",
      "Draper, UT\n",
      "via LinkedIn\n",
      "20 days ago\n",
      "Full-time\n",
      "Health insurance\n",
      "Dental insurance\n",
      "Paid time off\n",
      "\n"
     ]
    }
   ],
   "source": [
    "print(share_link)\n",
    "print(\"Jobs found:\", len(jobs), end=\"\\n---\\n\")\n",
    "for job in jobs[:2]:\n",
    "    print(job, end=\"\\n\\n\")"
   ]
  }
 ],
 "metadata": {
  "kernelspec": {
   "display_name": ".venv",
   "language": "python",
   "name": "python3"
  },
  "language_info": {
   "codemirror_mode": {
    "name": "ipython",
    "version": 3
   },
   "file_extension": ".py",
   "mimetype": "text/x-python",
   "name": "python",
   "nbconvert_exporter": "python",
   "pygments_lexer": "ipython3",
   "version": "3.10.1"
  }
 },
 "nbformat": 4,
 "nbformat_minor": 2
}
