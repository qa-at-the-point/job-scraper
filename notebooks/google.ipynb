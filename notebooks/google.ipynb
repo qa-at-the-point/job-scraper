{
 "cells": [
  {
   "cell_type": "markdown",
   "metadata": {},
   "source": [
    "# Scraping Google Jobs\n",
    "\n",
    "Google jobs has their filters in the URL, so we simply need Pylenium to visit a URL to start scraping.\n",
    "\n",
    "> This is actually pretty powerful now, so it's something I'd recommend people use!\n",
    "\n",
    "Unlike other job sites, like Indeed, Google's results are _almost_ always relevant when it comes to jobs"
   ]
  },
  {
   "cell_type": "code",
   "execution_count": 1,
   "metadata": {},
   "outputs": [],
   "source": [
    "from pylenium.driver import Pylenium, PyleniumConfig\n",
    "\n",
    "from jobs import google\n",
    "\n",
    "py = Pylenium(PyleniumConfig())\n",
    "jobs = google.scrape(py, google.SOFTWARE_QA_ENGINEER_IN_UTAH)"
   ]
  },
  {
   "cell_type": "code",
   "execution_count": 2,
   "metadata": {},
   "outputs": [
    {
     "name": "stdout",
     "output_type": "stream",
     "text": [
      "Jobs found: 20\n",
      "Software Quality Assurance Engineer, Document Systems\n",
      "🏢 Tesla\n",
      "📍 Draper, UT\n",
      "\n",
      "QA Engineer\n",
      "🏢 Robert Half\n",
      "📍 American Fork, UT\n",
      "\n",
      "Software Development Engineer in Test\n",
      "🏢 Filevine\n",
      "📍 Anywhere\n",
      "\n",
      "QA Engineer (Mid)\n",
      "🏢 Canopy Tax\n",
      "📍 Draper, UT\n",
      "\n",
      "QA Engineer 1\n",
      "🏢 Reputation\n",
      "📍 Lehi, UT\n",
      "\n",
      "Software quality engineer\n",
      "🏢 VirtualVocations\n",
      "📍 Salt Lake City, UT\n",
      "\n",
      "Software QA Engineer\n",
      "🏢 Gravity IT Resources\n",
      "📍 Salt Lake City, UT\n",
      "\n",
      "Software QA Engineer - SDET at MarketDial in Salt Lake City, UT\n",
      "🏢 MarketDial\n",
      "📍 Salt Lake City, UT\n",
      "\n",
      "Software Test Engineer\n",
      "🏢 State of Utah\n",
      "📍 Salt Lake City, UT\n",
      "\n",
      "Senior QA Engineer (Remote US) | SEM Startup | Over $2bn Revenue\n",
      "🏢 Intelletec\n",
      "📍 Salt Lake City, UT\n",
      "\n",
      "Entry-Level QA Manual Tester\n",
      "🏢 Mondo\n",
      "📍 Draper, UT\n",
      "\n",
      "QA Automation Engineer\n",
      "🏢 Dyno Nobel\n",
      "📍 Salt Lake City, UT\n",
      "\n",
      "Quality Assurance Engineer (Manual Testing)\n",
      "🏢 TEKsystems\n",
      "📍 Anywhere\n",
      "\n",
      "Insight Global\n",
      "🏢 Insight Global\n",
      "📍 Salt Lake City, UT\n",
      "\n",
      "QA Engineer I\n",
      "🏢 TruHearing\n",
      "📍 Draper, UT\n",
      "\n",
      "Software Test Engineer I/II/III\n",
      "🏢 bioMérieux\n",
      "📍 Salt Lake City, UT\n",
      "\n",
      "Software Development Engineer in Test\n",
      "🏢 Novarad Corporation\n",
      "📍 Provo, UT\n",
      "\n",
      "Software Developer in Test\n",
      "🏢 Talent Groups\n",
      "📍 Riverton, UT\n",
      "\n",
      "Entry-Level QA Manual Tester\n",
      "🏢 Mondo\n",
      "📍 Anywhere\n",
      "\n",
      "Senior Software Quality Testing Engineer Remote virtual home office\n",
      "🏢 Humana Inc.\n",
      "📍 Sandy, UT\n",
      "\n"
     ]
    }
   ],
   "source": [
    "print(\"Jobs found:\", len(jobs))\n",
    "for job in jobs:\n",
    "    print(job.title)\n",
    "    print(\"🏢\", job.company)\n",
    "    print(\"📍\", job.location)\n",
    "    print()"
   ]
  }
 ],
 "metadata": {
  "kernelspec": {
   "display_name": ".venv",
   "language": "python",
   "name": "python3"
  },
  "language_info": {
   "codemirror_mode": {
    "name": "ipython",
    "version": 3
   },
   "file_extension": ".py",
   "mimetype": "text/x-python",
   "name": "python",
   "nbconvert_exporter": "python",
   "pygments_lexer": "ipython3",
   "version": "3.10.1"
  }
 },
 "nbformat": 4,
 "nbformat_minor": 2
}
