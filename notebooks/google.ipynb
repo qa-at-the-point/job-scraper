{
 "cells": [
  {
   "cell_type": "markdown",
   "metadata": {},
   "source": [
    "# Scraping Google Jobs\n",
    "\n",
    "Google jobs has their filters in the URL, so we simply need Pylenium to visit a URL to start scraping.\n",
    "\n",
    "> This is actually pretty powerful now, so it's something I'd recommend people use!\n",
    "\n",
    "Unlike other job sites, like Indeed, Google's results are _almost_ always relevant when it comes to jobs"
   ]
  },
  {
   "cell_type": "code",
   "execution_count": 1,
   "metadata": {},
   "outputs": [],
   "source": [
    "from pylenium.driver import Pylenium, PyleniumConfig\n",
    "\n",
    "from jobs import google\n",
    "\n",
    "py = Pylenium(PyleniumConfig())\n",
    "jobs = google.scrape(py, google.SOFTWARE_QA_ENGINEER_IN_UTAH)"
   ]
  },
  {
   "cell_type": "code",
   "execution_count": 2,
   "metadata": {},
   "outputs": [],
   "source": [
    "from jobs import slack\n",
    "\n",
    "# Google Jobs shares 20 jobs per page, so we don't need to limit this for Slack\n",
    "payload = slack.create_google_jobs_payload(jobs)\n",
    "response = slack.post_to_channel(payload)"
   ]
  }
 ],
 "metadata": {
  "kernelspec": {
   "display_name": ".venv",
   "language": "python",
   "name": "python3"
  },
  "language_info": {
   "codemirror_mode": {
    "name": "ipython",
    "version": 3
   },
   "file_extension": ".py",
   "mimetype": "text/x-python",
   "name": "python",
   "nbconvert_exporter": "python",
   "pygments_lexer": "ipython3",
   "version": "3.10.1"
  }
 },
 "nbformat": 4,
 "nbformat_minor": 2
}
