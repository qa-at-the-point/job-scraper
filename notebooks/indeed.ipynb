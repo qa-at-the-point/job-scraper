{
 "cells": [
  {
   "cell_type": "markdown",
   "metadata": {},
   "source": [
    "# Scraping Indeed.com\n",
    "\n",
    "Indeed has their filters in the URL, so we simply need Pylenium to visit a URL to start scraping.\n",
    "\n",
    "> Their filtering and searching is pretty bad, so you'll see lots of irrelevant results.\n",
    "> However, with this list of jobs, we can have an AI analyze all of them and return what we want!\n",
    "\n",
    "The current implementation will paginate through 5 pages of results and capture all Job Posts"
   ]
  },
  {
   "cell_type": "code",
   "execution_count": 1,
   "metadata": {},
   "outputs": [
    {
     "name": "stdout",
     "output_type": "stream",
     "text": [
      "Found jobs: 75\n"
     ]
    }
   ],
   "source": [
    "from pylenium.driver import Pylenium, PyleniumConfig\n",
    "from jobs import indeed\n",
    "\n",
    "py = Pylenium(PyleniumConfig())\n",
    "jobs = indeed.scrape(py, indeed.REMOTE_QA_ENGINEER)\n",
    "\n",
    "print(\"Found jobs:\", len(jobs))"
   ]
  },
  {
   "cell_type": "markdown",
   "metadata": {},
   "source": [
    "We can view some of the Jobs we found"
   ]
  },
  {
   "cell_type": "code",
   "execution_count": 2,
   "metadata": {},
   "outputs": [
    {
     "data": {
      "text/plain": [
       "[IndeedJob(origin='https://indeed.com', title='Software Engineer', company='Convera', location='Remote in Denver, CO', share_link='https://indeed.com/pagead/clk?mo=r&ad=-6NYlbfkN0A1hwZZFfe5kqTC0mSB_a3yjAxe1XH-gVzwrkdS4aQAoTCVGPuKr0fJa3a4Z55zWr-PM8x3A1U-Tfbkl7I7WQM11_4YU7rxyGfU_maeka9S4bosphTKuGGY9rdNgtZVOHR2G1iD90F-jO08nI73C2xgmLWZp6n-ZJlvJ6QzNkAoQTFquoVpFShQ2K8K0aTSff5SSTjTDOGO18YR0MI5kjeUGQ5Y2dXswmyNdzhndu4NHdUFmJcp3S0NcyMd6f3bmgHT3LtkvkQEF1H2jaJbtAV6VMhCV3nwlKSOYM-WGTF9_BHPsdO63ktSi_CenXFIE-M6QrO-4ZlMPEJS6xFHboQNTrWttyqLrM8kxxdAhzDAjb6zsvQtkzYwD788Jl0Bnx04H93rJ2owreHyyO_Td3nQPivPlfcLnPXibvfEioeFdQJQkKpjN4kgTBfa8jb99NCj7NUpGi93WWSvPr0DX6jp334E3b9rteYqLVQIykQj1RBCYuEBxmXIDuWziKCEywthMwoNvBB3tCNHbEx6s2p-BzGey2YdaGPJxL-CUvotErQW97jIl4l8ulPZrgl23-CFnQD2qPjFEEwOZ3n7pemg&xkcb=SoBI6_M3FK2MMZgniL0LbzkdCdPP&p=0&fvj=0&vjs=3', salary=None),\n",
       " IndeedJob(origin='https://indeed.com', title='Full Stack Software Engineer, Core and Monetization', company='Pinterest', location='Remote in San Francisco, CA', share_link='https://indeed.com/rc/clk?jk=d28f6864ca2641ec&bb=-JLw75zShUI_Xe3_lgFIP0TB9R_B1APWxGegOnsZxzOjHpFVoTHvdrUce7nJ2iCaITyQX9ir6LzqRbUlOVjZGYKV7E7mpbR7EsGNiLqkdK0%3D&xkcb=SoAI67M3FK2MMZgniL0KbzkdCdPP&fccid=43014b1412e0a7b6&vjs=3', salary=None),\n",
       " IndeedJob(origin='https://indeed.com', title='Frontend Software Engineer', company='Resourcely', location='Remote', share_link='https://indeed.com/rc/clk?jk=0edbac704d39d4f9&bb=-JLw75zShUI_Xe3_lgFIP36qBrxQp7qYfn1ZHIZ8aMmrwmF3t49NSkAgijqTIv_lV5h_Gh7m0q6fvG2QiBLz-SCMrV3v6mMvxQj8r3gXgLg%3D&xkcb=SoCV67M3FK2MMZgniL0JbzkdCdPP&fccid=b17b7450885ceb79&vjs=3', salary=None),\n",
       " IndeedJob(origin='https://indeed.com', title='Backend Software Engineer, Core and Monetization', company='Pinterest', location='Remote in San Francisco, CA', share_link='https://indeed.com/rc/clk?jk=4a60afeecb5cf9db&bb=-JLw75zShUI_Xe3_lgFIP6Ae4mIRld96_n4CDjO2f0eKdFgXXfz-Fqz1JzL2sMg92oiA7kuGWkEaaCCp579JehmgHsGZPiQ7wfSd3_yaQB8%3D&xkcb=SoAh67M3FK2MMZgniL0IbzkdCdPP&fccid=43014b1412e0a7b6&vjs=3', salary=None),\n",
       " IndeedJob(origin='https://indeed.com', title='Manual QA Engineer', company='EX2 Outcoding', location='Remote', share_link='https://indeed.com/rc/clk?jk=fe5bc6f6ef812c82&bb=-JLw75zShUI_Xe3_lgFIP6TIHpEsf_Du-cwnUegveHvdAX2GaJu88jIZhajX04VstNfJvZKL1XTE9WbX5MHAbGKbOu2vsSFme8HjwMhu_V8%3D&xkcb=SoCv67M3FK2MMZgniL0PbzkdCdPP&fccid=a2a923487dc9475f&vjs=3', salary=None)]"
      ]
     },
     "execution_count": 2,
     "metadata": {},
     "output_type": "execute_result"
    }
   ],
   "source": [
    "jobs[:5]"
   ]
  },
  {
   "cell_type": "markdown",
   "metadata": {},
   "source": [
    "## Save results to the database"
   ]
  },
  {
   "cell_type": "code",
   "execution_count": 3,
   "metadata": {},
   "outputs": [],
   "source": [
    "from jobs import database\n",
    "\n",
    "database.create()\n",
    "database.insert_indeed_jobs(jobs)"
   ]
  },
  {
   "cell_type": "markdown",
   "metadata": {},
   "source": [
    "## Query the database"
   ]
  },
  {
   "cell_type": "markdown",
   "metadata": {},
   "source": [
    "Which jobs have their salary listed?"
   ]
  },
  {
   "cell_type": "code",
   "execution_count": 4,
   "metadata": {},
   "outputs": [
    {
     "data": {
      "text/plain": [
       "[(4, 'QA Engineer', 'Actabl', 'Remote in Florida', '$70,000 - $90,000 a year'),\n",
       " (5,\n",
       "  'Software Engineer, Frontend - Consumer',\n",
       "  'Coinbase',\n",
       "  'Remote',\n",
       "  '$140,250 - $165,000 a year')]"
      ]
     },
     "execution_count": 4,
     "metadata": {},
     "output_type": "execute_result"
    }
   ],
   "source": [
    "database.query(\n",
    "    \"\"\"\n",
    "    SELECT id, title, company, location, salary FROM indeed_jobs\n",
    "    WHERE salary LIKE '%year%'\n",
    "    LIMIT 2\n",
    "    \"\"\"\n",
    ")"
   ]
  },
  {
   "cell_type": "markdown",
   "metadata": {},
   "source": [
    "Which jobs are remote?"
   ]
  },
  {
   "cell_type": "code",
   "execution_count": 5,
   "metadata": {},
   "outputs": [
    {
     "data": {
      "text/plain": [
       "[(1,\n",
       "  'Full Stack Software Engineer, Core and Monetization',\n",
       "  'Pinterest',\n",
       "  'Remote in San Francisco, CA',\n",
       "  None),\n",
       " (2, 'Frontend Software Engineer', 'Resourcely', 'Remote', None),\n",
       " (3, 'Software QA Engineer', 'Peraton', 'Remote in United States', None),\n",
       " (4, 'QA Engineer', 'Actabl', 'Remote in Florida', '$70,000 - $90,000 a year')]"
      ]
     },
     "execution_count": 5,
     "metadata": {},
     "output_type": "execute_result"
    }
   ],
   "source": [
    "database.query(\n",
    "    \"\"\"\n",
    "    SELECT id, title, company, location, salary FROM indeed_jobs\n",
    "    WHERE location LIKE '%remote%'\n",
    "    LIMIT 4\n",
    "    \"\"\"\n",
    ")"
   ]
  },
  {
   "cell_type": "markdown",
   "metadata": {},
   "source": [
    "## Convert query results back to Pydantic Models\n",
    "\n",
    "If needed, we can convert query results back into our `IndeedJob` pydantic model to continue working with them in python!"
   ]
  },
  {
   "cell_type": "code",
   "execution_count": 6,
   "metadata": {},
   "outputs": [
    {
     "data": {
      "text/plain": [
       "[('https://indeed.com',\n",
       "  'Full Stack Software Engineer, Core and Monetization',\n",
       "  'Pinterest',\n",
       "  'Remote in San Francisco, CA',\n",
       "  'https://indeed.com/rc/clk?jk=d28f6864ca2641ec&bb=UPkVe9GUNmPlaDhnXCdzjrdcTHA8XaMFb_XO3GlzxXlC78pxHzHOCTQ0eLuyEVbrNc9IWlZ8GXamoM056sMyNjceuXGSUTkBFhtQ8c2VC4Y%3D&xkcb=SoDa67M3FKygqZUEJp0LbzkdCdPP&fccid=43014b1412e0a7b6&vjs=3',\n",
       "  None),\n",
       " ('https://indeed.com',\n",
       "  'Frontend Software Engineer',\n",
       "  'Resourcely',\n",
       "  'Remote',\n",
       "  'https://indeed.com/rc/clk?jk=0edbac704d39d4f9&bb=UPkVe9GUNmPlaDhnXCdzjn8vw2ulcQugCL_KmFrCnG10Uy9na2MxdNVaxoc-gHX2Pt_Kk82YzeIyv-XLnSGvbMnO03XI7vg52AdKaqwGE3g%3D&xkcb=SoBu67M3FKygqZUEJp0KbzkdCdPP&fccid=b17b7450885ceb79&vjs=3',\n",
       "  None),\n",
       " ('https://indeed.com',\n",
       "  'Software QA Engineer',\n",
       "  'Peraton',\n",
       "  'Remote in United States',\n",
       "  'https://indeed.com/rc/clk?jk=62e6126a8ebcfce1&bb=UPkVe9GUNmPlaDhnXCdzjrbZ5hRD77BtwgUYR1QeClbyvzDJcgg0g7daWnb1H_zpO2as-ZSiFC3CiJjP2lRpv9YH3rHkXpYUii1N6lU04EM%3D&xkcb=SoDz67M3FKygqZUEJp0JbzkdCdPP&fccid=7dc8be9efe945d3a&vjs=3',\n",
       "  None),\n",
       " ('https://indeed.com',\n",
       "  'QA Engineer',\n",
       "  'Actabl',\n",
       "  'Remote in Florida',\n",
       "  'https://indeed.com/rc/clk?jk=8e007dd6e2167f36&bb=UPkVe9GUNmPlaDhnXCdzjnY4vUWNJTf7TBjwIWTwrHpzlKvEvbEfvxxTFzKHuiQ15UiVpmCGptNJlCL4DxQuvlmQzgR3QXxplszokyGhQn0%3D&xkcb=SoBH67M3FKygqZUEJp0IbzkdCdPP&fccid=dd616958bd9ddc12&vjs=3',\n",
       "  '$70,000 - $90,000 a year'),\n",
       " ('https://indeed.com',\n",
       "  'Software Engineer, Frontend - Consumer',\n",
       "  'Coinbase',\n",
       "  'Remote',\n",
       "  'https://indeed.com/rc/clk?jk=5a2e18bd3c2bcaa9&bb=UPkVe9GUNmPlaDhnXCdzjhRV85m0AYV197PU-jnd8dJRp_76Yf1LNA3TI5xtZg_2ItHYEk0m_6tO4XyrkVoLpaAoe-_pPTwqWFA_XC5gJrI%3D&xkcb=SoDJ67M3FKygqZUEJp0PbzkdCdPP&fccid=d2c6abf8a785fc40&vjs=3',\n",
       "  '$140,250 - $165,000 a year')]"
      ]
     },
     "execution_count": 6,
     "metadata": {},
     "output_type": "execute_result"
    }
   ],
   "source": [
    "results = database.query(\n",
    "    \"\"\"\n",
    "    SELECT origin, title, company, location, share_link, salary FROM indeed_jobs\n",
    "    LIMIT 5\n",
    "    \"\"\"\n",
    ")\n",
    "\n",
    "results"
   ]
  },
  {
   "cell_type": "code",
   "execution_count": 7,
   "metadata": {},
   "outputs": [
    {
     "data": {
      "text/plain": [
       "[IndeedJob(origin='https://indeed.com', title='Full Stack Software Engineer, Core and Monetization', company='Pinterest', location='Remote in San Francisco, CA', share_link='https://indeed.com/rc/clk?jk=d28f6864ca2641ec&bb=UPkVe9GUNmPlaDhnXCdzjrdcTHA8XaMFb_XO3GlzxXlC78pxHzHOCTQ0eLuyEVbrNc9IWlZ8GXamoM056sMyNjceuXGSUTkBFhtQ8c2VC4Y%3D&xkcb=SoDa67M3FKygqZUEJp0LbzkdCdPP&fccid=43014b1412e0a7b6&vjs=3', salary=None),\n",
       " IndeedJob(origin='https://indeed.com', title='Frontend Software Engineer', company='Resourcely', location='Remote', share_link='https://indeed.com/rc/clk?jk=0edbac704d39d4f9&bb=UPkVe9GUNmPlaDhnXCdzjn8vw2ulcQugCL_KmFrCnG10Uy9na2MxdNVaxoc-gHX2Pt_Kk82YzeIyv-XLnSGvbMnO03XI7vg52AdKaqwGE3g%3D&xkcb=SoBu67M3FKygqZUEJp0KbzkdCdPP&fccid=b17b7450885ceb79&vjs=3', salary=None),\n",
       " IndeedJob(origin='https://indeed.com', title='Software QA Engineer', company='Peraton', location='Remote in United States', share_link='https://indeed.com/rc/clk?jk=62e6126a8ebcfce1&bb=UPkVe9GUNmPlaDhnXCdzjrbZ5hRD77BtwgUYR1QeClbyvzDJcgg0g7daWnb1H_zpO2as-ZSiFC3CiJjP2lRpv9YH3rHkXpYUii1N6lU04EM%3D&xkcb=SoDz67M3FKygqZUEJp0JbzkdCdPP&fccid=7dc8be9efe945d3a&vjs=3', salary=None),\n",
       " IndeedJob(origin='https://indeed.com', title='QA Engineer', company='Actabl', location='Remote in Florida', share_link='https://indeed.com/rc/clk?jk=8e007dd6e2167f36&bb=UPkVe9GUNmPlaDhnXCdzjnY4vUWNJTf7TBjwIWTwrHpzlKvEvbEfvxxTFzKHuiQ15UiVpmCGptNJlCL4DxQuvlmQzgR3QXxplszokyGhQn0%3D&xkcb=SoBH67M3FKygqZUEJp0IbzkdCdPP&fccid=dd616958bd9ddc12&vjs=3', salary='$70,000 - $90,000 a year'),\n",
       " IndeedJob(origin='https://indeed.com', title='Software Engineer, Frontend - Consumer', company='Coinbase', location='Remote', share_link='https://indeed.com/rc/clk?jk=5a2e18bd3c2bcaa9&bb=UPkVe9GUNmPlaDhnXCdzjhRV85m0AYV197PU-jnd8dJRp_76Yf1LNA3TI5xtZg_2ItHYEk0m_6tO4XyrkVoLpaAoe-_pPTwqWFA_XC5gJrI%3D&xkcb=SoDJ67M3FKygqZUEJp0PbzkdCdPP&fccid=d2c6abf8a785fc40&vjs=3', salary='$140,250 - $165,000 a year')]"
      ]
     },
     "execution_count": 7,
     "metadata": {},
     "output_type": "execute_result"
    }
   ],
   "source": [
    "from jobs.models import IndeedJob\n",
    "\n",
    "[IndeedJob(title=row[1], company=row[2], location=row[3], share_link=row[4], salary=row[5]) for row in results]"
   ]
  }
 ],
 "metadata": {
  "kernelspec": {
   "display_name": ".venv",
   "language": "python",
   "name": "python3"
  },
  "language_info": {
   "codemirror_mode": {
    "name": "ipython",
    "version": 3
   },
   "file_extension": ".py",
   "mimetype": "text/x-python",
   "name": "python",
   "nbconvert_exporter": "python",
   "pygments_lexer": "ipython3",
   "version": "3.10.1"
  }
 },
 "nbformat": 4,
 "nbformat_minor": 2
}
