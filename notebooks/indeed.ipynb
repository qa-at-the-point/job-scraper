{
 "cells": [
  {
   "cell_type": "markdown",
   "metadata": {},
   "source": [
    "# Scraping Indeed.com\n",
    "\n",
    "Indeed has their filters in the URL, so we simply need Pylenium to visit a URL to start scraping.\n",
    "\n",
    "> Their filtering and searching is pretty bad, so you'll see lots of irrelevant results.\n",
    "> However, with this list of jobs, we can have an AI analyze all of them and return what we want!\n",
    "\n",
    "The current implementation will paginate through 5 pages of results and capture all Job Posts"
   ]
  },
  {
   "cell_type": "code",
   "execution_count": 1,
   "metadata": {},
   "outputs": [
    {
     "name": "stdout",
     "output_type": "stream",
     "text": [
      "Found jobs: 75\n"
     ]
    }
   ],
   "source": [
    "from pylenium.driver import Pylenium, PyleniumConfig\n",
    "from jobs import indeed\n",
    "\n",
    "py = Pylenium(PyleniumConfig())\n",
    "jobs = indeed.scrape(py, indeed.REMOTE_QA_ENGINEER)\n",
    "\n",
    "print(\"Found jobs:\", len(jobs))"
   ]
  },
  {
   "cell_type": "code",
   "execution_count": 2,
   "metadata": {},
   "outputs": [
    {
     "data": {
      "text/plain": [
       "[Job(origin='https://indeed.com', title='Software Developer - AI Trainer (Contract)', company='DataAnnotation', location='Remote', description='You will work with the chatbots that we are building in order to measure their progress, as well as write and evaluate code. You can work on your own schedule.', salary='From $40 an hour', job_type=None, apply_link='https://indeed.com/pagead/clk?mo=r&ad=-6NYlbfkN0CnM4TERr6XuVBW3VTRACvDXDx9S3Pbn6a0SwhkmoLTiNuchFC0m8cWtwLJyeogFE5SGtP65L-9Ng_7z-XZDItbUFVtdgO7sfdjH3W4Y8ftdGls2QqYWjFu2kJy0GfTa77sg-oS-jce-__l9JuN-gD3W1GYgTE6_21PyLfI9cEL8xbCOyEd1KnxR_l3KcoaH_r2TDp3QF_COTO2xAEURJAroQehhG5yNtoonePB6t2wzAp2xJcs5pYEkIeMldCsRUsuWgJL3otTRmg54aZlaa3cYYXxISwb1UdeTlfShMatgEKNn5WbYTEYh-LGhP8AlgFjMDx0L4Kfsz6UxADsF2scvjejwbcRdJWE20P1ePNj_gMe92JbDWq85-X9zPCpfmEmE72U0laaXGamaI4QDvruElCgGSbBzccQVOYwKBCqO4y91_u2JgsfLoYbEbuB3BsVVtyErPfIa215VHG-nG-JmCTlmT__jplxwles3QzP1ouDFbBOMhWEvP1a1Nohwiot3QAZ6VDU4puRC3IxEpUcGQoCY3d2KxBEX6cSZflIlESMvtFRViVIqWRVJBuSgERKmZAqHj5NOPYDrGP5iKskwzua8TbqhFd4NccJn2RJkdQ5SJWY4u4JmuhFps6yiUGw87OaYuX3KhRDqX7ciUHCyZG4yij2MFAnQZ1eiz22EJUKN3AzgVQkkpARD3H_t_iC-QJ_qSo68cMpoHNzwNwOEL5Jyc8T2vzOJPbFLhpDeMlYZKJn4gPzspfN_dvSI47CvqctzFQxnXzAQvKot8lFw4xTd_6G1DI=&xkcb=SoAt6_M3G5AOvqQ4mZ0LbzkdCdPP&p=0&fvj=1&vjs=3'),\n",
       " Job(origin='https://indeed.com', title='Lead Software Developer', company='TherapyNotes.com', location='Remote in Philadelphia, PA', description='Participate in decision making concerningsoftwarearchitecture and design and code reviews. The right candidate will have significant experience building…', salary='$125,000 - $155,000 a year', job_type='Full-time', apply_link='https://indeed.com/pagead/clk?mo=r&ad=-6NYlbfkN0AfEq5j7saNRG5aU_mvVTuWOB9eeCeHIli2OtKfZJ_lU3vl1J5TBn-9WCEUAojH9qh42UiXlLki57qTqZn10y_alQUoRlgagQ__sQ_gWCN193_CefPDWUiOKg2mEyrdwFWCNr8l8vdMUIKyN8D9NeECvZLJ9EwGZCqOM4Au74BRxw4dhtAJhruNK0mDTyRQv3XzYoy4D0QLp03yN6setSSiLkgZ5A3krhMxIahTQ8qs2VuznWeB62lATk4s3h4CRlI7rwztH3iNKNeXNNACMcrXVEIGrtp24FMDjUMIwEB17ZcbbhzgA0d5ZinGcW8etS7_a3QFENjYxsUy38Lu3iIrN7gQB6358pJTi_gvmXFrfxiA84CB3GUyA_JCZerpZXOdBiFhjctv0rxZV0t5COAba9GeqPhMoAtp7vm7jwvkAuCKWUfnJOXC5A-_g-3pQlf4tw6Ugl3ZWrBOXRtONlA6ZDTh987X6KZgbtHSX2PDJbJqILEB8AoRJSfX3UPaMaRYF3iK98pkc1VRnB-qtCVi2OlBl8Y-hSuNc0Ycm7_dFqkF-jHiVuXUI6RLZCpfY5SolCRbtf9RIJzUsd5_qxpwlK90NiFFURrUJMi8lRa-uQ==&xkcb=SoCZ6_M3G5AOvqQ4mZ0KbzkdCdPP&p=1&fvj=0&vjs=3'),\n",
       " Job(origin='https://indeed.com', title='Remote Test Engineer', company='MKS2 Technologies', location='Remote', description='Ability to manage discrepancies, bugs, and fixes identified during testing and collaborate with thesoftwaredevelopment. Experience with Azure DevOps or JIRA.', salary='$80,000 - $85,000 a year', job_type=None, apply_link='https://indeed.com/pagead/clk?mo=r&ad=-6NYlbfkN0AlIcXl6cYXVxT61kL-X6FBkdngfPXdYTS-r6zHx0M6BFtrQ5oT46tZAfVeDMOx1tffx_R76wP2OnoLCwsTBXhBNvktSyGoGywaXAtrsQ-klxmUFbEWEMiF5O9xdrw7qE4Sz51Wrol_c9_B4SwkU8rCm1jIJpwee3HVPRCwqQcMTwmqzXFIYw0-wf3gaEL9lBkyQPchkk4NzhhnLK9uLfx5e2t4qoV2Nh9Rkc4n-tctSrJwkNMkF6kxwOOg2SMfSumDqpOt9zYUlwAMXShIMy98LuULRUYRx9MhiX6_eMshXll0Cqmr9PAAx1ovN0WmkpMiOwf7MkVhcJEIQUOl82bMKFA4ofmsohKvsqiemJp694b-QwpLvnY8lCMt7XO-EnSRMC5yEgF4v8USRPEaXoJJBahsukgmxxGsH-SPVa2rQenzTEkfpHg6vUiRUSGB3bxe7pWA_migH-435Z7n9A2Pf6vd84877MzBGFfXnv2Oak_5spQq2USDDb5Irs-we3M1p1m-jKd5TqdexhglnRt4GxfuLbW83kCozk6ay1VkNVBmMJVoPnLcXWZoXplcKmK0K3j81LfAbBJRmZsjDrtf&xkcb=SoAE6_M3G5AOvqQ4mZ0JbzkdCdPP&p=2&fvj=0&vjs=3'),\n",
       " Job(origin='https://indeed.com', title='Software Engineer, Fullstack', company='Pinterest', location='Remote in San Francisco, CA', description='We are looking for inquisitive, well-rounded Full-stackengineersto join our engineering teams. Experience in following best practices in writing reliable and…', salary=None, job_type=None, apply_link='https://indeed.com/rc/clk?jk=d28f6864ca2641ec&bb=icVzgNXWaGYZw86BjIa6aa6YCruAvuJMC-xO10-f0HmbTP1dFCewSv34DWUjixDrf3f0vHC_bglj2LA8yJTWrdXCIwlMPyxtGE5itDSDBPk%3D&xkcb=SoBE67M3G5AOvqQ4mZ0IbzkdCdPP&fccid=43014b1412e0a7b6&vjs=3'),\n",
       " Job(origin='https://indeed.com', title='Associate .NET Software Engineer', company='Assurant', location='Remote in Georgia', description='They collaborate with seniorengineers, analyze user requirements, and contribute to the design and implementation ofsoftwaresolutions.', salary=None, job_type=None, apply_link='https://indeed.com/rc/clk?jk=1ec71faad5f9b275&bb=icVzgNXWaGYZw86BjIa6aem5W6Wf6s7MIkGLI4WRoFSW310_dgaF_e47tuQDOkrcBQtISfkqUaxO2FqkUbHoGf6Qvo9hp0_sU25kvxLVTIE%3D&xkcb=SoDK67M3G5AOvqQ4mZ0PbzkdCdPP&fccid=cc80d5313758adb1&vjs=3')]"
      ]
     },
     "execution_count": 2,
     "metadata": {},
     "output_type": "execute_result"
    }
   ],
   "source": [
    "# We can view some of the Jobs we found\n",
    "jobs[:5]"
   ]
  }
 ],
 "metadata": {
  "kernelspec": {
   "display_name": ".venv",
   "language": "python",
   "name": "python3"
  },
  "language_info": {
   "codemirror_mode": {
    "name": "ipython",
    "version": 3
   },
   "file_extension": ".py",
   "mimetype": "text/x-python",
   "name": "python",
   "nbconvert_exporter": "python",
   "pygments_lexer": "ipython3",
   "version": "3.10.1"
  }
 },
 "nbformat": 4,
 "nbformat_minor": 2
}
