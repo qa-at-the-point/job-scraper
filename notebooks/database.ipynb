{
 "cells": [
  {
   "cell_type": "markdown",
   "metadata": {},
   "source": [
    "# Working with the Database\n",
    "\n",
    "If there are already results in the `/notebooks/database.db`, then we can query what we need"
   ]
  },
  {
   "cell_type": "code",
   "execution_count": 1,
   "metadata": {},
   "outputs": [
    {
     "data": {
      "text/plain": [
       "[Job(origin='https://indeed.com', title='Junior QA Engineer', company='Remote Technology, Inc.', location='Remote', share_link='https://indeed.com/rc/clk?jk=88b705f19f529a30&bb=fLYvD_7LG2S8G6wuMT_izznnKiMZKUXUrAB0eikxJH6-5bSJpMp3uABiRT5eX2EXvv9ZzZb96rnNkGbEUzdFmM_9_YTfIUYeddPyIAhr6PY%3D&xkcb=SoDi67M3FNK1vMzRkR0AbzkdCdPP&fccid=55bfdb22b1429971&vjs=3'),\n",
       " Job(origin='https://indeed.com', title='Jr. QA Engineer', company='Kyla', location='Remote', share_link='https://indeed.com/rc/clk?jk=b0133ba0f944c93d&bb=_Ot3_dDWnzAC2JfHSA8-p3HOaYy2G1yB33CxksZ0iphEAo4APfNCDhCVz_LRpR849ptztWbeEeQ3VA9_9xfIjKrnRZK-z9F3wR7ZaK7fCmQ%3D&xkcb=SoB-67M3FNKzkOTCqh0KbzkdCdPP&fccid=1f46884a3fc52544&vjs=3'),\n",
       " Job(origin='https://indeed.com', title='QA Tester', company='Bad Robot Games', location='Remote', share_link='https://indeed.com/rc/clk?jk=4f4c457be06e6c19&bb=D9smhDLbuqbhzoo73rnjKu2S60G-vyhp1JoWhfvxXhrIadUdXsiN2faU7zhXBa4XtBu19uB1jV2LeEIyg9rg1MHBAoF2QA5SVuGitazBOgo%3D&xkcb=SoD-67M3FNK024wVYJ0CbzkdCdPP&fccid=3bbdf463d226a762&vjs=3'),\n",
       " Job(origin='https://indeed.com', title='Manual QA Engineer', company='Flip', location='Remote', share_link='https://indeed.com/rc/clk?jk=952e70f98f933067&bb=D9smhDLbuqbhzoo73rnjKgZCx60iUR2SSPSmzpjxDUGkI-I6HibSZiJh9eduBNkN5O10LmlYifj5IfiFic8U_deKk2ZWsUvSZIkoE3eMHis%3D&xkcb=SoDX67M3FNK024wVYJ0AbzkdCdPP&fccid=6047d5ee8cf5e7f8&vjs=3'),\n",
       " Job(origin='https://indeed.com', title='QA Engineer- Mobile', company='Actabl', location='Remote in Florida', share_link='https://indeed.com/rc/clk?jk=8e007dd6e2167f36&bb=fLYvD_7LG2S8G6wuMT_iz79Grr0AISBNv7Vo6kkg7DAQ801SS4Asne88NrRTHofhrAE_FJ39PjWpjcyOmImGYluKijFcV7eY-y7ZSY_3x1U%3D&xkcb=SoC_67M3FNK1vMzRkR0ObzkdCdPP&fccid=dd616958bd9ddc12&vjs=3'),\n",
       " Job(origin='https://indeed.com', title='QA Manual Engineer', company='EX2 Outcoding', location='Remote', share_link='https://indeed.com/rc/clk?jk=25072dbdaaa21316&bb=fLYvD_7LG2S8G6wuMT_iz79Grr0AISBN3qBNOW8bi-ElHMXWCR2ir0zGwdnxzXASmKeRNNt85h48bJTSCk0ELZ6zZmlGc-hbperGGnAZCE0%3D&xkcb=SoB_67M3FNK1vMzRkR0DbzkdCdPP&fccid=a2a923487dc9475f&vjs=3'),\n",
       " Job(origin='https://indeed.com', title='Software QA Engineer', company='Peraton', location='Remote in United States', share_link='https://indeed.com/rc/clk?jk=62e6126a8ebcfce1&bb=fLYvD_7LG2S8G6wuMT_iz3z4oNfXTT2kgeDvZ2YOl1voY6NfIY1fD0Cc9nu0LKDZ3jucVjUr976f9IPcy9r6hASPZJpRlgaWJn6U0Wjt-9U%3D&xkcb=SoCW67M3FNK1vMzRkR0MbzkdCdPP&fccid=7dc8be9efe945d3a&vjs=3'),\n",
       " Job(origin='https://indeed.com', title='QA Test Engineer', company='SCIGON', location='Remote', share_link='https://indeed.com/rc/clk?jk=af0cf005515551c2&bb=_Ot3_dDWnzAC2JfHSA8-pzVO_Dcso60sdpGMtUi3H_7C_CRoPW5_wTAA6hvEidZJmGJ2dySNkKw4DUh5UtkNa3EPtD-E_Jf-Ws5_pb3CRq4%3D&xkcb=SoBt67M3FNKzkOTCqh0ObzkdCdPP&fccid=e6719c9b414c02a1&vjs=3'),\n",
       " Job(origin='https://indeed.com', title='QA Engineer', company='Quadcode', location='Remote', share_link='https://indeed.com/rc/clk?jk=c452de9b91ad78e0&bb=_Ot3_dDWnzAC2JfHSA8-p45k0m9j3QYyapb2ak7s-L3bMypSBuIXySIJ8Besxt5oo1xoteMA64Kavnge6lRxh2_TW41t6N7XdDxlbBtcqLQ%3D&xkcb=SoAw67M3FNKzkOTCqh0AbzkdCdPP&fccid=3b3c8550106877b6&vjs=3'),\n",
       " Job(origin='https://indeed.com', title='Software QA Engineer (TOSCA exp)', company='TTC Global', location='Remote in Houston, TX', share_link='https://indeed.com/rc/clk?jk=c801b3ad8efae61f&bb=_Ot3_dDWnzAC2JfHSA8-p8Jvo3tcr1x6Cml-fHG47g8oeL08Px9351s-SowrgqKGfrEO_Li2JUwpF074mQuL7MwtwN1BRV3tnXek2BH6T80%3D&xkcb=SoC-67M3FNKzkOTCqh0HbzkdCdPP&fccid=11e773a48a015b36&vjs=3'),\n",
       " Job(origin='https://indeed.com', title='QA Engineer II - Remote', company='Net Health', location='Remote in Pittsburgh, PA 15222', share_link='https://indeed.com/rc/clk?jk=b318cbdd589e7c73&bb=fJRWveUjqp_NBU9YhKTljjxEcK5JaTawGv5CVIq31d47XuNP0iOAh4_-5_yTTmi7UJtw9-4kD8UwyH93x1Q6NJusIqiFau_LOpABvF6Xjlc%3D&xkcb=SoCR67M3FNKztHQVYJ0KbzkdCdPP&fccid=1248328a66591796&vjs=3'),\n",
       " Job(origin='https://indeed.com', title='QA Engineer', company='Zingtree', location='Remote in United States', share_link='https://indeed.com/rc/clk?jk=37d1312fd2ea7d89&bb=fJRWveUjqp_NBU9YhKTljturZXsDSedLJMuBB8bS3f5S_eoqSdmYfJEsmAiRFbqLuk6m_w9PuO6dK7Z07XHqHmC95nMsITMz2_eyurQ7FzQ%3D&xkcb=SoA267M3FNKztHQVYJ0PbzkdCdPP&fccid=8f651828e25fe814&vjs=3'),\n",
       " Job(origin='https://indeed.com', title='QA Analyst', company='Filevine', location='Remote in Salt Lake City, UT', share_link='https://indeed.com/rc/clk?jk=506cbbf62913404b&bb=qUy8t5Q82XP68CysIXN7HmTXPJLxP1yfNVHxAoX1zrNEZTSQ9KI6YwP_WvtgzCxEmEDUKL4thVc4eoL9rZLRzy6ULu5wLVRn4RVWgivUWlE%3D&xkcb=SoA-67M3FNKzY-QlTR0NbzkdCdPP&fccid=cbaaf6d9b36859d8&vjs=3'),\n",
       " Job(origin='https://indeed.com', title='Software Quality Assurance (QA) Engineer - Remote', company='Anderson Optimization', location='Remote in Boulder, CO', share_link='https://indeed.com/rc/clk?jk=815fda3cfb6e3adf&bb=qUy8t5Q82XP68CysIXN7HiSrOG5FCU6nLQ_WZw913MrqonFG1A7rA153oB2gOeVIAmjT8_3AwBJxo3DL9H-gggpiE-ls-ebnANGIwkCIdIU%3D&xkcb=SoBj67M3FNKzY-QlTR0DbzkdCdPP&fccid=5d92aa16c2bd1866&vjs=3'),\n",
       " Job(origin='https://indeed.com', title='QA Automation Engineer', company='Chartspan Medical Technologies Inc', location='Remote', share_link='https://indeed.com/rc/clk?jk=0a019ea585b6c3e0&bb=qUy8t5Q82XP68CysIXN7HlCURuZ_u071Kaovzyo_seT08FdUgNdpJE7hRStKPnVV45kZBx-0frswpwQc2eemS0B2GnsbxZK8mWFvKEykd7s%3D&xkcb=SoCj67M3FNKzY-QlTR0ObzkdCdPP&fccid=9654fb5c3edbfa32&vjs=3'),\n",
       " Job(origin='https://indeed.com', title='QA Manager', company='Perry Street Software', location='Remote', share_link='https://indeed.com/rc/clk?jk=cf31aa0884b4d0a8&bb=qUy8t5Q82XP68CysIXN7Hmf3dxSG7b44QG58ZsbKEqJgAGIR-4W8aS6KGL02hZOt_BF7WJTKujCnXkCer9Vi--rNM3mWipa7DWb2REMgvik%3D&xkcb=SoDX67M3FNKzY-QlTR0CbzkdCdPP&fccid=25f3406e935c590e&vjs=3'),\n",
       " Job(origin='https://indeed.com', title='QA Lead', company='Kaizen Dynamics', location='Remote', share_link='https://indeed.com/rc/clk?jk=d9003c9bbf3c10c5&bb=fJRWveUjqp_NBU9YhKTljoi_m6Rf20SQmF5EPBM8-fa9X5NJlSY6HWlhIliYlf0by3DUWjnY65n7PE-DZBmE4rvzS2s1IJSyp6JgIhRgwTM%3D&xkcb=SoAM67M3FNKztHQVYJ0JbzkdCdPP&fccid=ad4662d0d2e6d29f&cmp=Kaizen-Dynamics&ti=Quality+Assurance+Manager&vjs=3'),\n",
       " Job(origin='https://indeed.com', title='QA Software Engineer', company='Chainlink Labs', location='Remote', share_link='https://indeed.com/rc/clk?jk=b6b2dca6cb82eede&bb=qUy8t5Q82XP68CysIXN7Hp4zn-8oxDkFlYCG4PQaPSJXpWEFJ-Hh1vT3an-y9N0B75SHd4YeX53JpqU8oXT9F8xzTI2XIyz60BaNkJ7sRMk%3D&xkcb=SoDE67M3FNKzY-QlTR0GbzkdCdPP&fccid=2f9af8183fc08763&vjs=3'),\n",
       " Job(origin='https://indeed.com', title='Remote Test Engineer', company='MKS2 Technologies', location='Remote', share_link='https://indeed.com/rc/clk?jk=fd56518392e12290&bb=D9smhDLbuqbhzoo73rnjKk0V4Kr_xpYJo44xMFKAxenFZZbCaFtKhOCwDgPF96PAEb4vM38oJ8Qto_aeF5V0TfikOwMFU6kyaZ_VrADl-bo%3D&xkcb=SoAt67M3FNK024wVYJ0LbzkdCdPP&fccid=bb2fd3f3b10bb53f&vjs=3'),\n",
       " Job(origin='https://indeed.com', title='Load Test Engineer', company='NetDocuments', location='Remote', share_link='https://indeed.com/rc/clk?jk=52dddd99ad97eae0&bb=qUy8t5Q82XP68CysIXN7Hjn16Kwr0FapZm4_d_6k9LVdS_gm2FVX8n96yKowwNlrocvtCuBS0tlwv7xnwGQK-JXmGSMDi-yI0-wCnHGN7cU%3D&xkcb=SoCZ67M3FNKzY-QlTR0IbzkdCdPP&fccid=5a2e63ac6e479596&vjs=3')]"
      ]
     },
     "execution_count": 1,
     "metadata": {},
     "output_type": "execute_result"
    }
   ],
   "source": [
    "from jobs import database\n",
    "\n",
    "jobs = database.query_relevant_jobs(\"SELECT * FROM relevant_jobs\")\n",
    "jobs"
   ]
  },
  {
   "cell_type": "code",
   "execution_count": 2,
   "metadata": {},
   "outputs": [],
   "source": [
    "from jobs import slack\n",
    "\n",
    "top_20_jobs = jobs[:20]\n",
    "payload = slack.create_jobs_payload(top_20_jobs)\n",
    "response = slack.post_to_channel(payload)"
   ]
  },
  {
   "cell_type": "code",
   "execution_count": 3,
   "metadata": {},
   "outputs": [],
   "source": [
    "# If this cell runs without error, then the jobs were posted to Slack!\n",
    "assert response.ok, f\"Failed to post jobs to Slack: {response.text}\""
   ]
  }
 ],
 "metadata": {
  "kernelspec": {
   "display_name": ".venv",
   "language": "python",
   "name": "python3"
  },
  "language_info": {
   "codemirror_mode": {
    "name": "ipython",
    "version": 3
   },
   "file_extension": ".py",
   "mimetype": "text/x-python",
   "name": "python",
   "nbconvert_exporter": "python",
   "pygments_lexer": "ipython3",
   "version": "3.10.1"
  }
 },
 "nbformat": 4,
 "nbformat_minor": 2
}
