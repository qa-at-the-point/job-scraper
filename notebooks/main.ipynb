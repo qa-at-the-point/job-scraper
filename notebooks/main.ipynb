{
 "cells": [
  {
   "cell_type": "markdown",
   "metadata": {},
   "source": [
    "# QAP Job Poster\n",
    "\n",
    "This is the main code for posting open jobs for QA Professionals!\n",
    "\n",
    "At a high-level, this notebook goes through the process. Following the code will:\n",
    "\n",
    "* Collect jobs from different sources (ie Indeed, Google Jobs)\n",
    "* Filter relevant jobs using AI\n",
    "* Post those jobs to the `#jobs` channel in the QAP Slack Community!"
   ]
  },
  {
   "cell_type": "markdown",
   "metadata": {},
   "source": [
    "### 1. Create the SQLite Database to save our results from collecting jobs\n",
    "\n",
    "* import everything we'll need for this notebook\n",
    "* delete the database (if exists) and create a new one"
   ]
  },
  {
   "cell_type": "code",
   "execution_count": 1,
   "metadata": {},
   "outputs": [],
   "source": [
    "from typing import Dict, List\n",
    "\n",
    "from pylenium.driver import Pylenium, PyleniumConfig\n",
    "\n",
    "from jobs import ai, database, indeed, slack\n",
    "from jobs.models import Job\n",
    "\n",
    "database.delete()\n",
    "database.create()"
   ]
  },
  {
   "cell_type": "markdown",
   "metadata": {},
   "source": [
    "### 2. Use Pylenium to scrape jobs from different sources\n",
    "\n",
    "* Currently, uses `Indeed.com`\n",
    "* Eventually, will also use `Google Jobs`"
   ]
  },
  {
   "cell_type": "code",
   "execution_count": 2,
   "metadata": {},
   "outputs": [],
   "source": [
    "py = Pylenium(PyleniumConfig())\n",
    "scraped_jobs = indeed.scrape(py, indeed.REMOTE_QA_ENGINEER)"
   ]
  },
  {
   "cell_type": "markdown",
   "metadata": {},
   "source": [
    "### 3. Save scraped jobs to our `indeed_jobs` table\n",
    "\n",
    "We don't want to lose these results in case an error happens or if we want to use it for something else."
   ]
  },
  {
   "cell_type": "code",
   "execution_count": 3,
   "metadata": {},
   "outputs": [],
   "source": [
    "database.insert_indeed_jobs(scraped_jobs)"
   ]
  },
  {
   "cell_type": "markdown",
   "metadata": {},
   "source": [
    "### 4. Use AI to filter irrelevant jobs\n",
    "\n",
    "Unfortunately, Indeed doesn't do a great job of returning relevant results given their search and filters.\n",
    "\n",
    "Fortunately, we can use AI to not only give us the relevant jobs, but to also rank them:\n",
    "\n",
    "* Find jobs that would be relevant to Software QA Professionals\n",
    "* Order them from junior-level to senior-level"
   ]
  },
  {
   "cell_type": "code",
   "execution_count": 4,
   "metadata": {},
   "outputs": [],
   "source": [
    "# Use the least amount of tokens to get the relevant jobs from all the scraped jobs\n",
    "# The AI responds with a string\n",
    "ai_response: str = ai.get_relevant_jobs(scraped_jobs)\n",
    "\n",
    "# Convert the string output from the AI to a list of dictionaries that we can use in code\n",
    "ai_ranked_jobs: List[Dict] = ai.convert_relevant_jobs_to_list(ai_response)"
   ]
  },
  {
   "cell_type": "markdown",
   "metadata": {},
   "source": [
    "### 5. Use the `ai_ranked_jobs` to match the Jobs in `scraped_jobs`\n",
    "\n",
    "We can do this by creating a simple \"lookup table\""
   ]
  },
  {
   "cell_type": "code",
   "execution_count": 5,
   "metadata": {},
   "outputs": [],
   "source": [
    "def create_jobs_lookup(all_jobs: List[Job]) -> dict:\n",
    "    \"\"\"This 'lookup table' makes it easier to find relevant jobs within all jobs.\"\"\"\n",
    "    jobs_lookup = {}\n",
    "    for job in all_jobs:\n",
    "        key = f\"{job.company} | {job.title}\"\n",
    "        if key not in jobs_lookup:\n",
    "            jobs_lookup[key] = job\n",
    "    return jobs_lookup"
   ]
  },
  {
   "cell_type": "markdown",
   "metadata": {},
   "source": [
    "With this lookup, we can get back the full `Job` objects that match the AI's results!"
   ]
  },
  {
   "cell_type": "code",
   "execution_count": 6,
   "metadata": {},
   "outputs": [],
   "source": [
    "lookup = create_jobs_lookup(scraped_jobs)\n",
    "jobs = [job for j in ai_ranked_jobs if (job := lookup.get(f\"{j['company']} | {j['title']}\"))]"
   ]
  },
  {
   "cell_type": "markdown",
   "metadata": {},
   "source": [
    "Save the jobs found by AI to our `relevant_jobs` table"
   ]
  },
  {
   "cell_type": "code",
   "execution_count": 7,
   "metadata": {},
   "outputs": [],
   "source": [
    "database.insert_relevant_jobs(jobs)"
   ]
  },
  {
   "cell_type": "markdown",
   "metadata": {},
   "source": [
    "### 6. Send the Top 20 Jobs to the Slack Channel\n",
    "\n",
    "* Slack has a `Block Limit`, so we can only send the top 20"
   ]
  },
  {
   "cell_type": "code",
   "execution_count": 8,
   "metadata": {},
   "outputs": [],
   "source": [
    "top_20_jobs = jobs[:20]\n",
    "payload = slack.create_jobs_payload(top_20_jobs)\n",
    "response = slack.post_to_channel(payload)"
   ]
  },
  {
   "cell_type": "code",
   "execution_count": 9,
   "metadata": {},
   "outputs": [],
   "source": [
    "# If this cell runs without error, then the jobs were posted to Slack!\n",
    "assert response.ok, f\"Failed to post jobs to Slack: {response.text}\""
   ]
  },
  {
   "cell_type": "markdown",
   "metadata": {},
   "source": [
    "## (Optional) Explore the data"
   ]
  },
  {
   "cell_type": "code",
   "execution_count": 10,
   "metadata": {},
   "outputs": [
    {
     "name": "stdout",
     "output_type": "stream",
     "text": [
      "Relevant Jobs Found: 20\n"
     ]
    },
    {
     "data": {
      "text/plain": [
       "[IndeedJob(origin='https://indeed.com', title='Junior QA Engineer', company='Remote Technology, Inc.', location='Remote', share_link='https://indeed.com/rc/clk?jk=88b705f19f529a30&bb=fLYvD_7LG2S8G6wuMT_izznnKiMZKUXUrAB0eikxJH6-5bSJpMp3uABiRT5eX2EXvv9ZzZb96rnNkGbEUzdFmM_9_YTfIUYeddPyIAhr6PY%3D&xkcb=SoDi67M3FNK1vMzRkR0AbzkdCdPP&fccid=55bfdb22b1429971&vjs=3', salary=None),\n",
       " IndeedJob(origin='https://indeed.com', title='Jr. QA Engineer', company='Kyla', location='Remote', share_link='https://indeed.com/rc/clk?jk=b0133ba0f944c93d&bb=_Ot3_dDWnzAC2JfHSA8-p3HOaYy2G1yB33CxksZ0iphEAo4APfNCDhCVz_LRpR849ptztWbeEeQ3VA9_9xfIjKrnRZK-z9F3wR7ZaK7fCmQ%3D&xkcb=SoB-67M3FNKzkOTCqh0KbzkdCdPP&fccid=1f46884a3fc52544&vjs=3', salary=None),\n",
       " IndeedJob(origin='https://indeed.com', title='QA Tester', company='Bad Robot Games', location='Remote', share_link='https://indeed.com/rc/clk?jk=4f4c457be06e6c19&bb=D9smhDLbuqbhzoo73rnjKu2S60G-vyhp1JoWhfvxXhrIadUdXsiN2faU7zhXBa4XtBu19uB1jV2LeEIyg9rg1MHBAoF2QA5SVuGitazBOgo%3D&xkcb=SoD-67M3FNK024wVYJ0CbzkdCdPP&fccid=3bbdf463d226a762&vjs=3', salary=None),\n",
       " IndeedJob(origin='https://indeed.com', title='Manual QA Engineer', company='Flip', location='Remote', share_link='https://indeed.com/rc/clk?jk=952e70f98f933067&bb=D9smhDLbuqbhzoo73rnjKgZCx60iUR2SSPSmzpjxDUGkI-I6HibSZiJh9eduBNkN5O10LmlYifj5IfiFic8U_deKk2ZWsUvSZIkoE3eMHis%3D&xkcb=SoDX67M3FNK024wVYJ0AbzkdCdPP&fccid=6047d5ee8cf5e7f8&vjs=3', salary=None),\n",
       " IndeedJob(origin='https://indeed.com', title='QA Engineer- Mobile', company='Actabl', location='Remote in Florida', share_link='https://indeed.com/rc/clk?jk=8e007dd6e2167f36&bb=fLYvD_7LG2S8G6wuMT_iz79Grr0AISBNv7Vo6kkg7DAQ801SS4Asne88NrRTHofhrAE_FJ39PjWpjcyOmImGYluKijFcV7eY-y7ZSY_3x1U%3D&xkcb=SoC_67M3FNK1vMzRkR0ObzkdCdPP&fccid=dd616958bd9ddc12&vjs=3', salary=None),\n",
       " IndeedJob(origin='https://indeed.com', title='QA Manual Engineer', company='EX2 Outcoding', location='Remote', share_link='https://indeed.com/rc/clk?jk=25072dbdaaa21316&bb=fLYvD_7LG2S8G6wuMT_iz79Grr0AISBN3qBNOW8bi-ElHMXWCR2ir0zGwdnxzXASmKeRNNt85h48bJTSCk0ELZ6zZmlGc-hbperGGnAZCE0%3D&xkcb=SoB_67M3FNK1vMzRkR0DbzkdCdPP&fccid=a2a923487dc9475f&vjs=3', salary=None),\n",
       " IndeedJob(origin='https://indeed.com', title='Software QA Engineer', company='Peraton', location='Remote in United States', share_link='https://indeed.com/rc/clk?jk=62e6126a8ebcfce1&bb=fLYvD_7LG2S8G6wuMT_iz3z4oNfXTT2kgeDvZ2YOl1voY6NfIY1fD0Cc9nu0LKDZ3jucVjUr976f9IPcy9r6hASPZJpRlgaWJn6U0Wjt-9U%3D&xkcb=SoCW67M3FNK1vMzRkR0MbzkdCdPP&fccid=7dc8be9efe945d3a&vjs=3', salary=None),\n",
       " IndeedJob(origin='https://indeed.com', title='QA Test Engineer', company='SCIGON', location='Remote', share_link='https://indeed.com/rc/clk?jk=af0cf005515551c2&bb=_Ot3_dDWnzAC2JfHSA8-pzVO_Dcso60sdpGMtUi3H_7C_CRoPW5_wTAA6hvEidZJmGJ2dySNkKw4DUh5UtkNa3EPtD-E_Jf-Ws5_pb3CRq4%3D&xkcb=SoBt67M3FNKzkOTCqh0ObzkdCdPP&fccid=e6719c9b414c02a1&vjs=3', salary=None),\n",
       " IndeedJob(origin='https://indeed.com', title='QA Engineer', company='Quadcode', location='Remote', share_link='https://indeed.com/rc/clk?jk=c452de9b91ad78e0&bb=_Ot3_dDWnzAC2JfHSA8-p45k0m9j3QYyapb2ak7s-L3bMypSBuIXySIJ8Besxt5oo1xoteMA64Kavnge6lRxh2_TW41t6N7XdDxlbBtcqLQ%3D&xkcb=SoAw67M3FNKzkOTCqh0AbzkdCdPP&fccid=3b3c8550106877b6&vjs=3', salary=None),\n",
       " IndeedJob(origin='https://indeed.com', title='Software QA Engineer (TOSCA exp)', company='TTC Global', location='Remote in Houston, TX', share_link='https://indeed.com/rc/clk?jk=c801b3ad8efae61f&bb=_Ot3_dDWnzAC2JfHSA8-p8Jvo3tcr1x6Cml-fHG47g8oeL08Px9351s-SowrgqKGfrEO_Li2JUwpF074mQuL7MwtwN1BRV3tnXek2BH6T80%3D&xkcb=SoC-67M3FNKzkOTCqh0HbzkdCdPP&fccid=11e773a48a015b36&vjs=3', salary=None),\n",
       " IndeedJob(origin='https://indeed.com', title='QA Engineer II - Remote', company='Net Health', location='Remote in Pittsburgh, PA 15222', share_link='https://indeed.com/rc/clk?jk=b318cbdd589e7c73&bb=fJRWveUjqp_NBU9YhKTljjxEcK5JaTawGv5CVIq31d47XuNP0iOAh4_-5_yTTmi7UJtw9-4kD8UwyH93x1Q6NJusIqiFau_LOpABvF6Xjlc%3D&xkcb=SoCR67M3FNKztHQVYJ0KbzkdCdPP&fccid=1248328a66591796&vjs=3', salary=None),\n",
       " IndeedJob(origin='https://indeed.com', title='QA Engineer', company='Zingtree', location='Remote in United States', share_link='https://indeed.com/rc/clk?jk=37d1312fd2ea7d89&bb=fJRWveUjqp_NBU9YhKTljturZXsDSedLJMuBB8bS3f5S_eoqSdmYfJEsmAiRFbqLuk6m_w9PuO6dK7Z07XHqHmC95nMsITMz2_eyurQ7FzQ%3D&xkcb=SoA267M3FNKztHQVYJ0PbzkdCdPP&fccid=8f651828e25fe814&vjs=3', salary=None),\n",
       " IndeedJob(origin='https://indeed.com', title='QA Analyst', company='Filevine', location='Remote in Salt Lake City, UT', share_link='https://indeed.com/rc/clk?jk=506cbbf62913404b&bb=qUy8t5Q82XP68CysIXN7HmTXPJLxP1yfNVHxAoX1zrNEZTSQ9KI6YwP_WvtgzCxEmEDUKL4thVc4eoL9rZLRzy6ULu5wLVRn4RVWgivUWlE%3D&xkcb=SoA-67M3FNKzY-QlTR0NbzkdCdPP&fccid=cbaaf6d9b36859d8&vjs=3', salary=None),\n",
       " IndeedJob(origin='https://indeed.com', title='Software Quality Assurance (QA) Engineer - Remote', company='Anderson Optimization', location='Remote in Boulder, CO', share_link='https://indeed.com/rc/clk?jk=815fda3cfb6e3adf&bb=qUy8t5Q82XP68CysIXN7HiSrOG5FCU6nLQ_WZw913MrqonFG1A7rA153oB2gOeVIAmjT8_3AwBJxo3DL9H-gggpiE-ls-ebnANGIwkCIdIU%3D&xkcb=SoBj67M3FNKzY-QlTR0DbzkdCdPP&fccid=5d92aa16c2bd1866&vjs=3', salary=None),\n",
       " IndeedJob(origin='https://indeed.com', title='QA Automation Engineer', company='Chartspan Medical Technologies Inc', location='Remote', share_link='https://indeed.com/rc/clk?jk=0a019ea585b6c3e0&bb=qUy8t5Q82XP68CysIXN7HlCURuZ_u071Kaovzyo_seT08FdUgNdpJE7hRStKPnVV45kZBx-0frswpwQc2eemS0B2GnsbxZK8mWFvKEykd7s%3D&xkcb=SoCj67M3FNKzY-QlTR0ObzkdCdPP&fccid=9654fb5c3edbfa32&vjs=3', salary=None),\n",
       " IndeedJob(origin='https://indeed.com', title='QA Manager', company='Perry Street Software', location='Remote', share_link='https://indeed.com/rc/clk?jk=cf31aa0884b4d0a8&bb=qUy8t5Q82XP68CysIXN7Hmf3dxSG7b44QG58ZsbKEqJgAGIR-4W8aS6KGL02hZOt_BF7WJTKujCnXkCer9Vi--rNM3mWipa7DWb2REMgvik%3D&xkcb=SoDX67M3FNKzY-QlTR0CbzkdCdPP&fccid=25f3406e935c590e&vjs=3', salary='$70,000 - $80,000 a year'),\n",
       " IndeedJob(origin='https://indeed.com', title='QA Lead', company='Kaizen Dynamics', location='Remote', share_link='https://indeed.com/rc/clk?jk=d9003c9bbf3c10c5&bb=fJRWveUjqp_NBU9YhKTljoi_m6Rf20SQmF5EPBM8-fa9X5NJlSY6HWlhIliYlf0by3DUWjnY65n7PE-DZBmE4rvzS2s1IJSyp6JgIhRgwTM%3D&xkcb=SoAM67M3FNKztHQVYJ0JbzkdCdPP&fccid=ad4662d0d2e6d29f&cmp=Kaizen-Dynamics&ti=Quality+Assurance+Manager&vjs=3', salary=None),\n",
       " IndeedJob(origin='https://indeed.com', title='QA Software Engineer', company='Chainlink Labs', location='Remote', share_link='https://indeed.com/rc/clk?jk=b6b2dca6cb82eede&bb=qUy8t5Q82XP68CysIXN7Hp4zn-8oxDkFlYCG4PQaPSJXpWEFJ-Hh1vT3an-y9N0B75SHd4YeX53JpqU8oXT9F8xzTI2XIyz60BaNkJ7sRMk%3D&xkcb=SoDE67M3FNKzY-QlTR0GbzkdCdPP&fccid=2f9af8183fc08763&vjs=3', salary=None),\n",
       " IndeedJob(origin='https://indeed.com', title='Remote Test Engineer', company='MKS2 Technologies', location='Remote', share_link='https://indeed.com/rc/clk?jk=fd56518392e12290&bb=D9smhDLbuqbhzoo73rnjKk0V4Kr_xpYJo44xMFKAxenFZZbCaFtKhOCwDgPF96PAEb4vM38oJ8Qto_aeF5V0TfikOwMFU6kyaZ_VrADl-bo%3D&xkcb=SoAt67M3FNK024wVYJ0LbzkdCdPP&fccid=bb2fd3f3b10bb53f&vjs=3', salary=None),\n",
       " IndeedJob(origin='https://indeed.com', title='Load Test Engineer', company='NetDocuments', location='Remote', share_link='https://indeed.com/rc/clk?jk=52dddd99ad97eae0&bb=qUy8t5Q82XP68CysIXN7Hjn16Kwr0FapZm4_d_6k9LVdS_gm2FVX8n96yKowwNlrocvtCuBS0tlwv7xnwGQK-JXmGSMDi-yI0-wCnHGN7cU%3D&xkcb=SoCZ67M3FNKzY-QlTR0IbzkdCdPP&fccid=5a2e63ac6e479596&vjs=3', salary='Full-time')]"
      ]
     },
     "execution_count": 10,
     "metadata": {},
     "output_type": "execute_result"
    }
   ],
   "source": [
    "print(\"Relevant Jobs Found:\", len(jobs))\n",
    "jobs"
   ]
  },
  {
   "cell_type": "code",
   "execution_count": 11,
   "metadata": {},
   "outputs": [
    {
     "name": "stdout",
     "output_type": "stream",
     "text": [
      "Total Jobs Scraped: 75\n"
     ]
    },
    {
     "data": {
      "text/plain": [
       "[IndeedJob(origin='https://indeed.com', title='Angular Software Engineer', company='ES&S Voter Registration LLC', location='Remote', share_link='https://indeed.com/rc/clk?jk=69b0c9eb016e1f38&bb=fLYvD_7LG2S8G6wuMT_iz9ey8ftR8AjI6qRVXD8bkI4srxGTa5j_5sICe9cQakPijG-WE48t62z-d8RgW8BJuEsLbrDFdGTqtP-cvk0uNck%3D&xkcb=SoAY67M3FNK1vMzRkR0LbzkdCdPP&fccid=dd616958bd9ddc12&vjs=3', salary='$95,000 - $120,000 a year'),\n",
       " IndeedJob(origin='https://indeed.com', title='Software Engineer', company='Anonyome Labs', location='Remote', share_link='https://indeed.com/rc/clk?jk=b503805dba3cd9d8&bb=fLYvD_7LG2S8G6wuMT_iz5_zNMhWUQCKFIq24qwQtGPqoXG3H1wjMrXBiA4rUm1kcPCxoCOn5m85BIYAfdtxVP8nAaH2JbEO82Dzvt-4HqI%3D&xkcb=SoCs67M3FNK1vMzRkR0KbzkdCdPP&fccid=e140ab80cac32f76&vjs=3', salary=None),\n",
       " IndeedJob(origin='https://indeed.com', title='Frontend Software Engineer', company='Resourcely', location='Remote', share_link='https://indeed.com/rc/clk?jk=0edbac704d39d4f9&bb=fLYvD_7LG2S8G6wuMT_iz5_zNMhWUQCKqaf56NzfKJQ4YNFbHx6zgvQO0wRyDMmDdpenAZd5mMQ05bQolETuvhBcYzmjIa5YS2sjE_FMG4E%3D&xkcb=SoAx67M3FNK1vMzRkR0JbzkdCdPP&fccid=b17b7450885ceb79&vjs=3', salary=None),\n",
       " IndeedJob(origin='https://indeed.com', title='Full Stack Software Engineer, Core and Monetization', company='Pinterest', location='Remote in San Francisco, CA', share_link='https://indeed.com/rc/clk?jk=d28f6864ca2641ec&bb=fLYvD_7LG2S8G6wuMT_izz262FWXGO-n64PBAxjViAN0xIzftYTSSSQ1PVIEtSawnuYSrwKWrHgf5o2ApVPYi-OH8V5Zon8ont5YDmGQ9F0%3D&xkcb=SoCF67M3FNK1vMzRkR0IbzkdCdPP&fccid=43014b1412e0a7b6&vjs=3', salary=None),\n",
       " IndeedJob(origin='https://indeed.com', title='Backend Software Engineer, Core and Monetization', company='Pinterest', location='Remote in San Francisco, CA', share_link='https://indeed.com/rc/clk?jk=4a60afeecb5cf9db&bb=fLYvD_7LG2S8G6wuMT_izwg5Qs7IjIthds5pGKlzOcKxeFJIDigInuXVICkhH83ODZQK58X6Xd5Gy1VotxoKAwQlP8h7bDnEVuR0AbBljUc%3D&xkcb=SoAL67M3FNK1vMzRkR0PbzkdCdPP&fccid=43014b1412e0a7b6&vjs=3', salary=None),\n",
       " IndeedJob(origin='https://indeed.com', title='QA Engineer- Mobile', company='Actabl', location='Remote in Florida', share_link='https://indeed.com/rc/clk?jk=8e007dd6e2167f36&bb=fLYvD_7LG2S8G6wuMT_iz79Grr0AISBNv7Vo6kkg7DAQ801SS4Asne88NrRTHofhrAE_FJ39PjWpjcyOmImGYluKijFcV7eY-y7ZSY_3x1U%3D&xkcb=SoC_67M3FNK1vMzRkR0ObzkdCdPP&fccid=dd616958bd9ddc12&vjs=3', salary=None),\n",
       " IndeedJob(origin='https://indeed.com', title='Software Engineer', company='Dow Jones', location='Remote', share_link='https://indeed.com/rc/clk?jk=751b75d9a5126209&bb=fLYvD_7LG2S8G6wuMT_iz2Kzen39K6PjGOC3df_bLi29hQ5fGMarqbht67pFZTl6r07Wk8CDpRCsDZV6eUQwgl_o5Ea_nxCrl9YQVkMcfDo%3D&xkcb=SoAi67M3FNK1vMzRkR0NbzkdCdPP&fccid=ce539689f60a1d1d&vjs=3', salary=None),\n",
       " IndeedJob(origin='https://indeed.com', title='Software QA Engineer', company='Peraton', location='Remote in United States', share_link='https://indeed.com/rc/clk?jk=62e6126a8ebcfce1&bb=fLYvD_7LG2S8G6wuMT_iz3z4oNfXTT2kgeDvZ2YOl1voY6NfIY1fD0Cc9nu0LKDZ3jucVjUr976f9IPcy9r6hASPZJpRlgaWJn6U0Wjt-9U%3D&xkcb=SoCW67M3FNK1vMzRkR0MbzkdCdPP&fccid=7dc8be9efe945d3a&vjs=3', salary=None),\n",
       " IndeedJob(origin='https://indeed.com', title='QA Manual Engineer', company='EX2 Outcoding', location='Remote', share_link='https://indeed.com/rc/clk?jk=25072dbdaaa21316&bb=fLYvD_7LG2S8G6wuMT_iz79Grr0AISBN3qBNOW8bi-ElHMXWCR2ir0zGwdnxzXASmKeRNNt85h48bJTSCk0ELZ6zZmlGc-hbperGGnAZCE0%3D&xkcb=SoB_67M3FNK1vMzRkR0DbzkdCdPP&fccid=a2a923487dc9475f&vjs=3', salary=None),\n",
       " IndeedJob(origin='https://indeed.com', title='Development Software Engineer', company='Advantive', location='Remote', share_link='https://indeed.com/rc/clk?jk=b21f417874d799c9&bb=fLYvD_7LG2S8G6wuMT_iz042CWwx9XbuU3kIGwIg6xpM8ntAgHpoYCyZ76Eyscsm64kbeODD3TM-_hVV4ZJEx8KaTDuohW2W8yrv1IQuw_g%3D&xkcb=SoDL67M3FNK1vMzRkR0CbzkdCdPP&fccid=5a0b252c15a8ba81&vjs=3', salary='Full-time'),\n",
       " IndeedJob(origin='https://indeed.com', title='Software Engineer III', company='Alpha Omega Integration', location='Remote in Boulder, CO 80305', share_link='https://indeed.com/rc/clk?jk=bffe04c090a99f50&bb=fLYvD_7LG2S8G6wuMT_iz__aicXGOTehEJu27MWVHQJQTEmw4wwQx9aAND3GQ7oUgQqVw0yE7MnmzkK1xmc6n7uPquj-kJ7O5Uy-Ady24OQ%3D&xkcb=SoBW67M3FNK1vMzRkR0BbzkdCdPP&fccid=62bc2507c43f41ad&vjs=3', salary=None),\n",
       " IndeedJob(origin='https://indeed.com', title='Junior QA Engineer', company='Remote Technology, Inc.', location='Remote', share_link='https://indeed.com/rc/clk?jk=88b705f19f529a30&bb=fLYvD_7LG2S8G6wuMT_izznnKiMZKUXUrAB0eikxJH6-5bSJpMp3uABiRT5eX2EXvv9ZzZb96rnNkGbEUzdFmM_9_YTfIUYeddPyIAhr6PY%3D&xkcb=SoDi67M3FNK1vMzRkR0AbzkdCdPP&fccid=55bfdb22b1429971&vjs=3', salary=None),\n",
       " IndeedJob(origin='https://indeed.com', title='React Front-End Engineer', company='Ascend Analytics', location='Remote in Boulder, CO 80302', share_link='https://indeed.com/rc/clk?jk=b7c9a2c54d23b74a&bb=fLYvD_7LG2S8G6wuMT_iz5n7CsLBMqfIUh3dozzWdkBzHWDrr6LtglVAPuw9yi9ThLv_P9Hw8rmbYmK0ciHgukZrZJJwe3XyfgUPivc3_WU%3D&xkcb=SoBs67M3FNK1vMzRkR0HbzkdCdPP&fccid=ce2d7614756df3f6&vjs=3', salary='$130,000 - $190,000 a year'),\n",
       " IndeedJob(origin='https://indeed.com', title='Software Engineer I', company='Samsara', location='Remote in Seattle, WA', share_link='https://indeed.com/rc/clk?jk=0dd7ded39884080d&bb=fLYvD_7LG2S8G6wuMT_iz3JQRHm-bXEdumkqTg0-XbvjWA94-qR3KwE6bZZpbwLjl41ISLwf6cJ1CxhyaZd4fD-Egk70HlwyXNrfckVOgHc%3D&xkcb=SoDY67M3FNK1vMzRkR0GbzkdCdPP&fccid=4a9c3fc37e5f1a80&vjs=3', salary=None),\n",
       " IndeedJob(origin='https://indeed.com', title='Ruby Software Developer', company='Global Payments', location='Remote', share_link='https://indeed.com/pagead/clk?mo=r&ad=-6NYlbfkN0C1Le0lPkqCOAxAAUNx4jZXXI8jyCnUh1g6Mo42m9mXe687mbSVxovWqslsYa5HVxb4XCnL6NH1xAT83B5HFqWkRh5n1QyNWWc95DBbBXPssqorv_cGlAQMFAJoUpJ8RoxyFJ9k1n912yHLG_cscAcp4LTMBCugGNzzBLlEi18KvlML58WahX4qjmjgBAjCnnUWn08td51XRbntzChw98klhj4F-2ChDQnazEpNICbw9KpAehiVjX13h_bxb2EzdCOgNQTLMWYhD2L231siSnr-IFtVYrAoMFOwQpoGl5cpgFKBdJqfUj5O88KBfIeFyk0pcu6dLyts1dIVHZoLtA9GLgFkq6f0qOV7GDHrtcVn6Odh2fmiW8ahFtWkK3MdWL4P5tNOop02jkszPvHV9A6z5DrewGshfOkUo9AOhA_U2ZIrbh3hd3k3z-MC36dOoPeDAZBKctpVttVHiO-JKiIwtGDH3eeCNoFLAQ2ctF-g7DXCKDJhTgqfgDKWfzL-GNsKKdKGw8OhriE9TUEjYJG5tQP1Qyc2CR9oC92_3gOvEK8_HooKdS9qm0-SlREW_xUcIGczRz-5-PROWPuXZ6wvwxJw2N2wIZDVGFOrCqIkdA==&xkcb=SoCx6_M3FNK1vMzRkR0FbzkdCdPP&p=14&fvj=1&vjs=3', salary='From $100,000 a year'),\n",
       " IndeedJob(origin='https://indeed.com', title='Remote Test Engineer', company='MKS2 Technologies', location='Remote', share_link='https://indeed.com/rc/clk?jk=fd56518392e12290&bb=D9smhDLbuqbhzoo73rnjKk0V4Kr_xpYJo44xMFKAxenFZZbCaFtKhOCwDgPF96PAEb4vM38oJ8Qto_aeF5V0TfikOwMFU6kyaZ_VrADl-bo%3D&xkcb=SoAt67M3FNK024wVYJ0LbzkdCdPP&fccid=bb2fd3f3b10bb53f&vjs=3', salary=None),\n",
       " IndeedJob(origin='https://indeed.com', title='Software Engineer', company='Mariner Finance, LLC', location='Remote', share_link='https://indeed.com/rc/clk?jk=bab849c1e1f3ee32&bb=D9smhDLbuqbhzoo73rnjKmJxQO5TQv_32Ze_0qHoLhE3PYFDeg__xC5Vmylsqibq-UMNSKHhU2pljJpmdM3DrTiTnGEQcEIMqAddRLM1egM%3D&xkcb=SoCZ67M3FNK024wVYJ0KbzkdCdPP&fccid=052d39af5a2044ae&vjs=3', salary=None),\n",
       " IndeedJob(origin='https://indeed.com', title='Software Engineer', company='GitHub, Inc.', location='Remote', share_link='https://indeed.com/rc/clk?jk=a6bf9ee18c594c66&bb=D9smhDLbuqbhzoo73rnjKh4VxK2-fpsRN-Kan6uFkZgjwHyv8BN5PCWb5ArylI_4XKRDxGZ-YNV7ut4oDt33duEkUAPjzmXYFEH67NE_w2c%3D&xkcb=SoAE67M3FNK024wVYJ0JbzkdCdPP&fccid=c594c442f5397e7b&vjs=3', salary=None),\n",
       " IndeedJob(origin='https://indeed.com', title='Junior Front End Engineer', company='minware', location='Remote', share_link='https://indeed.com/rc/clk?jk=5dcb9ffc0e943e0b&bb=D9smhDLbuqbhzoo73rnjKvm8vg9LhHy6RdQtfIEYQKo3fF5WUXRaYlVZ8LN28L4ey6MLZNvj7o-bBSpHZ56jrBlL-BAo-op-7V8yUOCOrpQ%3D&xkcb=SoCw67M3FNK024wVYJ0IbzkdCdPP&fccid=01b27327b9e5d576&vjs=3', salary='$80,000 - $120,000 a year'),\n",
       " IndeedJob(origin='https://indeed.com', title='Frontend Software Engineer', company='Atlassian', location='Remote in San Francisco, CA 94104', share_link='https://indeed.com/rc/clk?jk=1a1fd5a762ae6629&bb=D9smhDLbuqbhzoo73rnjKu0ddmSu2ASywEi9SbeG5U0XvKyR-QFC9EdyDSe-2Dud3E21ENw49uLQ2tjCObyj5HTpnHS9ecY7ARpO-UlOE40%3D&xkcb=SoA-67M3FNK024wVYJ0PbzkdCdPP&fccid=e6d4ba9e2cfe7902&vjs=3', salary=None),\n",
       " IndeedJob(origin='https://indeed.com', title='Associate Software Engineer', company='Restaurant365', location='Remote', share_link='https://indeed.com/rc/clk?jk=829b39da6e5d88dc&bb=D9smhDLbuqbhzoo73rnjKviZVXzbxbauZ2jZoNsqB1lkkPWwchealCUbaFSIjmkcelpgu04RWeNPTYa_btLA2wNnUCG3NX8yfGO3zTRKRUc%3D&xkcb=SoCK67M3FNK024wVYJ0ObzkdCdPP&fccid=3a56e47cf92d98be&vjs=3', salary=None),\n",
       " IndeedJob(origin='https://indeed.com', title='Dev Ops Admin/Engineer', company='Vibrant Emotional Health', location='Remote', share_link='https://indeed.com/rc/clk?jk=cca9da9899fbd570&bb=D9smhDLbuqbhzoo73rnjKsf-s4w06YMvLUqebkwMHlbq8y7qAzVFqDqOfrQ1nw3LY5rI9DLsvFskKATArvGHfhtmch32kBbgmakd-cyIVwI%3D&xkcb=SoAX67M3FNK024wVYJ0NbzkdCdPP&fccid=4afe232280fcf172&vjs=3', salary=None),\n",
       " IndeedJob(origin='https://indeed.com', title='Engineer Software', company='PAYLOCITY CORPORATION', location='Remote', share_link='https://indeed.com/rc/clk?jk=fec9c06d3083d116&bb=D9smhDLbuqbhzoo73rnjKu0ddmSu2ASyemiYcjUhIZdExSEfBdAgJOnYY8HGEC6YZiwEvCbRmArDDMiT1SR15LwNvyByOSmJpwy57aUbAo8%3D&xkcb=SoCj67M3FNK024wVYJ0MbzkdCdPP&fccid=761110cb1eadb0d9&vjs=3', salary=None),\n",
       " IndeedJob(origin='https://indeed.com', title='Software Engineer, Frontend - Consumer', company='Coinbase', location='Remote', share_link='https://indeed.com/rc/clk?jk=5a2e18bd3c2bcaa9&bb=D9smhDLbuqbhzoo73rnjKvzgR4JdjpHzPqxHgqoiQL3PVbaW2UqXhcR_UB3tw_Fg1lTJ4KL81-iu7gxWLZQ-Z2JCf2soqfwYFMnrpHjyFBE%3D&xkcb=SoBK67M3FNK024wVYJ0DbzkdCdPP&fccid=d2c6abf8a785fc40&vjs=3', salary='$140,250 - $165,000 a year'),\n",
       " IndeedJob(origin='https://indeed.com', title='QA Tester', company='Bad Robot Games', location='Remote', share_link='https://indeed.com/rc/clk?jk=4f4c457be06e6c19&bb=D9smhDLbuqbhzoo73rnjKu2S60G-vyhp1JoWhfvxXhrIadUdXsiN2faU7zhXBa4XtBu19uB1jV2LeEIyg9rg1MHBAoF2QA5SVuGitazBOgo%3D&xkcb=SoD-67M3FNK024wVYJ0CbzkdCdPP&fccid=3bbdf463d226a762&vjs=3', salary=None),\n",
       " IndeedJob(origin='https://indeed.com', title='Front End Software Engineer', company='Wildfire Systems, Inc.', location='Remote', share_link='https://indeed.com/rc/clk?jk=1853a5bde7769200&bb=D9smhDLbuqbhzoo73rnjKu0ddmSu2ASyX_0jIUzZCM0ygUH3mNfRl_t11HqgI-iJrKOHhOza_f2Zs9l-Bv4j49o96kHK4fEQZ4GAJA-9MXc%3D&xkcb=SoBj67M3FNK024wVYJ0BbzkdCdPP&fccid=ac892958e3a7a842&cmp=Wildfire-Systems&ti=Front+End+Developer&vjs=3', salary=None),\n",
       " IndeedJob(origin='https://indeed.com', title='Manual QA Engineer', company='Flip', location='Remote', share_link='https://indeed.com/rc/clk?jk=952e70f98f933067&bb=D9smhDLbuqbhzoo73rnjKgZCx60iUR2SSPSmzpjxDUGkI-I6HibSZiJh9eduBNkN5O10LmlYifj5IfiFic8U_deKk2ZWsUvSZIkoE3eMHis%3D&xkcb=SoDX67M3FNK024wVYJ0AbzkdCdPP&fccid=6047d5ee8cf5e7f8&vjs=3', salary=None),\n",
       " IndeedJob(origin='https://indeed.com', title='Software Engineer', company='Bold Penguin', location='Remote', share_link='https://indeed.com/rc/clk?jk=3fe52c16ea3f1226&bb=D9smhDLbuqbhzoo73rnjKoYykQ5i5nrpXVmtqiisbLsRyBzpsxnr6WsaBcIj0LuZNYLgqq0c2u6snwPRbMOjXKZwxaYztAVlbfksMhFe-hs%3D&xkcb=SoBZ67M3FNK024wVYJ0HbzkdCdPP&fccid=7312646c6aa4b1ee&vjs=3', salary='$83,000 - $130,400 a year'),\n",
       " IndeedJob(origin='https://indeed.com', title='Software Engineer', company='PAM Transport', location='Remote', share_link='https://indeed.com/rc/clk?jk=73decd53c6b8e78b&bb=D9smhDLbuqbhzoo73rnjKqJaGhxxKrt5rd0ia8-B7EFFuphARGr7SAzyvkGJgPxgQMqbdepfNq6BrLeHSUHjFhux7tBIeNBSwKYX0TCPx0o%3D&xkcb=SoDt67M3FNK024wVYJ0GbzkdCdPP&fccid=b9c3ea3b92faca00&cmp=PAM-Transport&ti=Software+Engineer&vjs=3', salary=None),\n",
       " IndeedJob(origin='https://indeed.com', title='Ruby Software Developer', company='Global Payments', location='Remote', share_link='https://indeed.com/pagead/clk?mo=r&ad=-6NYlbfkN0C1Le0lPkqCOAxAAUNx4jZXXI8jyCnUh1g6Mo42m9mXe687mbSVxovWqslsYa5HVxb4XCnL6NH1xAT83B5HFqWkRh5n1QyNWWc95DBbBXPssqorv_cGlAQMFAJoUpJ8RoxyFJ9k1n912yHLG_cscAcp4LTMBCugGNzzBLlEi18KvhqBy_PqUeo7qwJlMpCsyjJTGQauajpna1p5dNZkOeDCjTm2xkj2DqLUhr5jkFnxg2Ui5v3SAJSe1Q_M3A4Nr5k5QZP_5pBzfzf56VftJOvL7KNvsUjOfuajnHpJ6WmjW9WNN3PQKjLCbXsKQ0DSi79AE1vRqxjmBzOZtqyd_IlNR3068NaOMuU4l5FLs9fmqYBXYf2ICMhtDdIiB4beijtFA3xxuCiVYfUt8C4UlClOHKZfLYkbHKzYwNzZ4FKOWgf_q4lgQpb0CcjEy-Vp5l6KkOE7_cF6I72T2E_TJthUnxADAsmmpk3ef8LpRQ6rPs0ZxWybtuDqAkJ5J0jmIE0IqYg9XjbnKSB96EAdVDtbrbrwQhzZTif7CFq9mLw5d93wIBT2_NyHnSJEc5z4GcJVZp6qOChX90ieDeV_MqfEdIuvHJIk8FcwjvrNvNJ4oQ==&xkcb=SoCE6_M3FNK024wVYJ0FbzkdCdPP&p=14&fvj=1&vjs=3', salary='From $100,000 a year'),\n",
       " IndeedJob(origin='https://indeed.com', title='Senior Software Engineer', company='Garner Health', location='Remote', share_link='https://indeed.com/rc/clk?jk=2db56d442b29598c&bb=_Ot3_dDWnzAC2JfHSA8-p9La9_TeG295HWmF6iDsMKMborkNsku9BqlDPsWsw1QsO1dr00lGoGGsvs68aDnJLFLpSEpSpuNKMBkaaK_URrY%3D&xkcb=SoDK67M3FNKzkOTCqh0LbzkdCdPP&fccid=6e1d1accd5aeee95&vjs=3', salary=None),\n",
       " IndeedJob(origin='https://indeed.com', title='Jr. QA Engineer', company='Kyla', location='Remote', share_link='https://indeed.com/rc/clk?jk=b0133ba0f944c93d&bb=_Ot3_dDWnzAC2JfHSA8-p3HOaYy2G1yB33CxksZ0iphEAo4APfNCDhCVz_LRpR849ptztWbeEeQ3VA9_9xfIjKrnRZK-z9F3wR7ZaK7fCmQ%3D&xkcb=SoB-67M3FNKzkOTCqh0KbzkdCdPP&fccid=1f46884a3fc52544&vjs=3', salary=None),\n",
       " IndeedJob(origin='https://indeed.com', title='React Front-End Engineer', company='Ascend Analytics, LLC', location='Remote in Boulder, CO 80302', share_link='https://indeed.com/rc/clk?jk=5c837247b14c1bd4&bb=_Ot3_dDWnzAC2JfHSA8-p0YWLFMh-EKtovA-x3_CeBjThX4qdHwok2t7A5xx_vruHP4R92iQL-TBSiC6Tgnw3fiHaOAleIkZ_zAqlJZps84%3D&xkcb=SoDj67M3FNKzkOTCqh0JbzkdCdPP&fccid=a9aee28181eb4b72&vjs=3', salary='$130,000 - $190,000 a year'),\n",
       " IndeedJob(origin='https://indeed.com', title='Frontend Software Engineer II', company='CareerVillage.org', location='Remote', share_link='https://indeed.com/rc/clk?jk=352814d52155a911&bb=_Ot3_dDWnzAC2JfHSA8-p3OpuTXpofBQSwx5Z2LI7sedqP0DzJKa3UxxxE5k6Y5YHYZu6eMOdJol8iDmK4yWG_L0VtguWs0yUFjLzWEsx-g%3D&xkcb=SoBX67M3FNKzkOTCqh0IbzkdCdPP&fccid=23ba9b1d4c531475&vjs=3', salary=None),\n",
       " IndeedJob(origin='https://indeed.com', title='Software Engineer III', company='BayOne', location='Remote', share_link='https://indeed.com/rc/clk?jk=3200c90d432c8cc9&bb=_Ot3_dDWnzAC2JfHSA8-pxnhkI3t6gB7rEzoQv-ay3Nymur1D7IOzB3ZIWlk-1-lqRF3f8V91tWB-sELKzdeb37BcGB0C23LEpoBZQ6zIHE%3D&xkcb=SoDZ67M3FNKzkOTCqh0PbzkdCdPP&fccid=f7b2d477df13840f&vjs=3', salary='Contract'),\n",
       " IndeedJob(origin='https://indeed.com', title='QA Test Engineer', company='SCIGON', location='Remote', share_link='https://indeed.com/rc/clk?jk=af0cf005515551c2&bb=_Ot3_dDWnzAC2JfHSA8-pzVO_Dcso60sdpGMtUi3H_7C_CRoPW5_wTAA6hvEidZJmGJ2dySNkKw4DUh5UtkNa3EPtD-E_Jf-Ws5_pb3CRq4%3D&xkcb=SoBt67M3FNKzkOTCqh0ObzkdCdPP&fccid=e6719c9b414c02a1&vjs=3', salary=None),\n",
       " IndeedJob(origin='https://indeed.com', title='Front End Software Engineer', company='Syndio', location='Remote', share_link='https://indeed.com/rc/clk?jk=d8a96532ffa09ef4&bb=_Ot3_dDWnzAC2JfHSA8-p3LCMko-hARJSfW0yeti3uqB-Vd7SNa-EIF-2HKxEzabDASta9lEppjxkh2JnBFGRM0YMfkvRyWIL0lN37HHHn8%3D&xkcb=SoDw67M3FNKzkOTCqh0NbzkdCdPP&fccid=361342c3ae3ac596&vjs=3', salary=None),\n",
       " IndeedJob(origin='https://indeed.com', title='Software Engineer, Backend', company='hims & hers', location='Remote', share_link='https://indeed.com/rc/clk?jk=07fc016888909456&bb=_Ot3_dDWnzAC2JfHSA8-p3OpuTXpofBQQ29PSK8IeEzOfDzT-SQtnWPLMOBtLxA9P0AHqxIb2SWhA7GbA26od_vlT9eIXTAaXOG4U_bT7Uk%3D&xkcb=SoBE67M3FNKzkOTCqh0MbzkdCdPP&fccid=e9894dc5abe5ad17&vjs=3', salary=None),\n",
       " IndeedJob(origin='https://indeed.com', title='Software Engineer', company='doxo', location='Remote', share_link='https://indeed.com/rc/clk?jk=ff84e5959cfa223b&bb=_Ot3_dDWnzAC2JfHSA8-p6A20eWpu2aP6_MqWjmyz3vkNYPxuZHqf4D--sWNhEVkl-hyF2hHQfasU3cFodLokvueYWeBsjvPA00miYinB5I%3D&xkcb=SoCt67M3FNKzkOTCqh0DbzkdCdPP&fccid=a1f7794c208a33a3&vjs=3', salary=None),\n",
       " IndeedJob(origin='https://indeed.com', title='Web Software Engineer, Core and Monetization', company='Pinterest', location='Remote in San Francisco, CA', share_link='https://indeed.com/rc/clk?jk=2bbc267165c8b490&bb=_Ot3_dDWnzAC2JfHSA8-p6WS0P60NtjoBmkCAm455JpNmKFiwr0oLE1VgAigEr6UV5BzoCo0hLEDBe3UM9HLfSA8L_wluNVyRrnBvDf0xqc%3D&xkcb=SoAZ67M3FNKzkOTCqh0CbzkdCdPP&fccid=43014b1412e0a7b6&vjs=3', salary=None),\n",
       " IndeedJob(origin='https://indeed.com', title='Software Development Engineer IV, Frontend - Marketplaces', company='ID.me', location='Remote', share_link='https://indeed.com/rc/clk?jk=34fabcd18946a473&bb=_Ot3_dDWnzAC2JfHSA8-p_j5-IvDWyzlmS-47sgciRytlhm3PwL3bxLSN4W0ns8FYP-V7Yr6lfVyaescXc1LQrj5J_SJlt6Pr4JLfaaPN2o%3D&xkcb=SoCE67M3FNKzkOTCqh0BbzkdCdPP&fccid=7e039861f9e93845&vjs=3', salary=None),\n",
       " IndeedJob(origin='https://indeed.com', title='QA Engineer', company='Quadcode', location='Remote', share_link='https://indeed.com/rc/clk?jk=c452de9b91ad78e0&bb=_Ot3_dDWnzAC2JfHSA8-p45k0m9j3QYyapb2ak7s-L3bMypSBuIXySIJ8Besxt5oo1xoteMA64Kavnge6lRxh2_TW41t6N7XdDxlbBtcqLQ%3D&xkcb=SoAw67M3FNKzkOTCqh0AbzkdCdPP&fccid=3b3c8550106877b6&vjs=3', salary=None),\n",
       " IndeedJob(origin='https://indeed.com', title='Software QA Engineer (TOSCA exp)', company='TTC Global', location='Remote in Houston, TX', share_link='https://indeed.com/rc/clk?jk=c801b3ad8efae61f&bb=_Ot3_dDWnzAC2JfHSA8-p8Jvo3tcr1x6Cml-fHG47g8oeL08Px9351s-SowrgqKGfrEO_Li2JUwpF074mQuL7MwtwN1BRV3tnXek2BH6T80%3D&xkcb=SoC-67M3FNKzkOTCqh0HbzkdCdPP&fccid=11e773a48a015b36&vjs=3', salary=None),\n",
       " IndeedJob(origin='https://indeed.com', title='Senior Software Engineer - IBM i RPG', company='Protective', location='Remote', share_link='https://indeed.com/rc/clk?jk=5c29eb98ad33a530&bb=_Ot3_dDWnzAC2JfHSA8-pwL5T31DaEBArEXn6pM0g2FQz7Wh75HWkFJyofBVVHCAtK2cpvPi7cXyZ2jylQ9hQJJ6IxTp7sMid6MsEZyAl1I%3D&xkcb=SoAK67M3FNKzkOTCqh0GbzkdCdPP&fccid=e6b7025f7633ed15&vjs=3', salary='$102,000 - $140,000 a year'),\n",
       " IndeedJob(origin='https://indeed.com', title='Ruby Software Developer', company='Global Payments', location='Remote', share_link='https://indeed.com/pagead/clk?mo=r&ad=-6NYlbfkN0C1Le0lPkqCOAxAAUNx4jZXXI8jyCnUh1g6Mo42m9mXe687mbSVxovWqslsYa5HVxb4XCnL6NH1xAT83B5HFqWkRh5n1QyNWWc95DBbBXPssqorv_cGlAQMFAJoUpJ8RoxyFJ9k1n912yHLG_cscAcp4LTMBCugGNzzBLlEi18KvsDXNZw4rYyg1G-fZBsnQvvcVeaGReTaPz9f4mVHCvlaVIhl9wFjzl14P1SKfYmB04HUnk6dHq50vP6ch7S1tHRCCnARxdcHw7CdWO7HWzbPHp1FdTDaovsvXDvzc6dE9ScZNTl_FUfa0yuDxHFSbjeC9mUyogOXlfzJvWNX6xXT8xOovLLW3wLumpMMcPwK--ALTco6mZJf8cL6gHr0-WSQVAwhon8fkRdR2JzeScEB-cQx7v3rEu4yfVSaiibKOa_rnD3zgNpCx6999thquyQlP0AG_zFkGEE76XTzCZzqwaMsqc5K9K0raB4Z3cxuItcwHzIffvtTPM1OD7SEP1A7WYbAONs6Lrcb_U3f6Vub8djDAyHZhficy4BA_jjljRyuu5Z5cJJA0Tvht6jR854tw6-7ukJRxknQ-Zx-pSkbfnwwWOMxziog6MpV6EnlLw==&xkcb=SoBj6_M3FNKzkOTCqh0FbzkdCdPP&p=14&fvj=1&vjs=3', salary='From $100,000 a year'),\n",
       " IndeedJob(origin='https://indeed.com', title='QA Engineer II - Remote', company='Net Health', location='Remote in Pittsburgh, PA 15222', share_link='https://indeed.com/rc/clk?jk=b318cbdd589e7c73&bb=fJRWveUjqp_NBU9YhKTljjxEcK5JaTawGv5CVIq31d47XuNP0iOAh4_-5_yTTmi7UJtw9-4kD8UwyH93x1Q6NJusIqiFau_LOpABvF6Xjlc%3D&xkcb=SoCR67M3FNKztHQVYJ0KbzkdCdPP&fccid=1248328a66591796&vjs=3', salary=None),\n",
       " IndeedJob(origin='https://indeed.com', title='QA Lead', company='Kaizen Dynamics', location='Remote', share_link='https://indeed.com/rc/clk?jk=d9003c9bbf3c10c5&bb=fJRWveUjqp_NBU9YhKTljoi_m6Rf20SQmF5EPBM8-fa9X5NJlSY6HWlhIliYlf0by3DUWjnY65n7PE-DZBmE4rvzS2s1IJSyp6JgIhRgwTM%3D&xkcb=SoAM67M3FNKztHQVYJ0JbzkdCdPP&fccid=ad4662d0d2e6d29f&cmp=Kaizen-Dynamics&ti=Quality+Assurance+Manager&vjs=3', salary=None),\n",
       " IndeedJob(origin='https://indeed.com', title='Software Engineer', company='FOSSA', location='Remote', share_link='https://indeed.com/rc/clk?jk=274b88c4f43dc293&bb=fJRWveUjqp_NBU9YhKTljs4TM8ql-J7uLGBWzlRaTM6XmgZvCLE033xZyoQqB1SieLYDY2GzS2IE57j_AYzY7aNV2CaXQyBjjEu5MUHhsBs%3D&xkcb=SoC467M3FNKztHQVYJ0IbzkdCdPP&fccid=e8a549046b64d34a&vjs=3', salary=None),\n",
       " IndeedJob(origin='https://indeed.com', title='QA Engineer', company='Zingtree', location='Remote in United States', share_link='https://indeed.com/rc/clk?jk=37d1312fd2ea7d89&bb=fJRWveUjqp_NBU9YhKTljturZXsDSedLJMuBB8bS3f5S_eoqSdmYfJEsmAiRFbqLuk6m_w9PuO6dK7Z07XHqHmC95nMsITMz2_eyurQ7FzQ%3D&xkcb=SoA267M3FNKztHQVYJ0PbzkdCdPP&fccid=8f651828e25fe814&vjs=3', salary=None),\n",
       " IndeedJob(origin='https://indeed.com', title='Manager Software Engineering - MedPharm', company='Prime Therapeutics', location='Remote', share_link='https://indeed.com/rc/clk?jk=adcebab7b55d2847&bb=fJRWveUjqp_NBU9YhKTljstSmHTHUGirHdBp7hwgMC0fvZsVVPB6JI2sWdcYKW2aa8zq1l5bZaBKmFt5ZtoG3TWrPpVVrkE2t0dRp3YoM7s%3D&xkcb=SoCC67M3FNKztHQVYJ0ObzkdCdPP&fccid=868d1d042b6cf33d&vjs=3', salary='$97,760 - $166,180 a year'),\n",
       " IndeedJob(origin='https://indeed.com', title='Frontend Software Engineer', company='Chainlink Labs', location='Remote', share_link='https://indeed.com/rc/clk?jk=455d1be520a6ca75&bb=fJRWveUjqp_NBU9YhKTljqKJEWRBXhqwbfxhcokyRxh8NaTyITYVNxI-M4OjKYGX9DXTS5uLM2K1gWx2Pd9wxIL1LrhxJi429bR7G5QA9h8%3D&xkcb=SoAf67M3FNKztHQVYJ0NbzkdCdPP&fccid=2f9af8183fc08763&vjs=3', salary=None),\n",
       " IndeedJob(origin='https://indeed.com', title='Sr. Software Engineer I - Student Engagement', company='Teachable', location='Remote', share_link='https://indeed.com/rc/clk?jk=7fd03ddafa8bde16&bb=fJRWveUjqp_NBU9YhKTljkpk9NQ-IU4lrkaPsW1ViYgyaLykE1YLnio6rXbuOkeqo-jlgG0r7238faiJ_Ld1P0H1CK9oQycHQHWu6kPdcrk%3D&xkcb=SoCr67M3FNKztHQVYJ0MbzkdCdPP&fccid=7c07af204e67482c&vjs=3', salary=None),\n",
       " IndeedJob(origin='https://indeed.com', title='Backend Engineer, Navigation', company='Included Health', location='Remote', share_link='https://indeed.com/rc/clk?jk=85179541d3b8b6b1&bb=fJRWveUjqp_NBU9YhKTljt6s0lnQh0F_dN5CjwUvq-unSEOJP0gj8xr2NOfKIx3wvOpsv83xLLsJcXGlqPEK-kmk8mhctRVYDR__q5TfNMQ%3D&xkcb=SoBC67M3FNKztHQVYJ0DbzkdCdPP&fccid=055b3f391d76d49a&vjs=3', salary=None),\n",
       " IndeedJob(origin='https://indeed.com', title='Software Engineer *Remote Position*', company='Kratos Defense', location='Remote', share_link='https://indeed.com/rc/clk?jk=a4012c6060e3f8e4&bb=fJRWveUjqp_NBU9YhKTljne8Y7s2il7zzKvHa7BHjhEdllNcsm6CNOH_6dAlffIqgkI_Ms8OEfLMeIiibD5vkYwauqOr6RR8-Ix53aCJsZo%3D&xkcb=SoD267M3FNKztHQVYJ0CbzkdCdPP&fccid=4070376f62e46112&vjs=3', salary=None),\n",
       " IndeedJob(origin='https://indeed.com', title='Senior Software Engineer', company='Zendesk', location='Remote', share_link='https://indeed.com/rc/clk?jk=ff4b4f56da5a6a74&bb=fJRWveUjqp_NBU9YhKTljm4c_5oJMH-G3gT5oxRW9ALKu9Y8Ia-KICmzHspvD4tsjsAm2nu4h1FQ7N2cS_hHLk5bF_HdgbOArXlQTQb2rng%3D&xkcb=SoBr67M3FNKztHQVYJ0BbzkdCdPP&fccid=41e8f9abd9840a7a&vjs=3', salary=None),\n",
       " IndeedJob(origin='https://indeed.com', title='Software Engineer', company='Stage Front Tickets Inc', location='Remote', share_link='https://indeed.com/rc/clk?jk=d88e15a9be098a5d&bb=fJRWveUjqp_NBU9YhKTljqxHbZAUjUZwYUUCjozSih3t5woy0pQCZhqQjcrNgka00gjQdl4H2qr97ZDfsP2gDX2ql47S31LOtMwcHVJ8kX8%3D&xkcb=SoDf67M3FNKztHQVYJ0AbzkdCdPP&fccid=a0f80edb1fc67f31&vjs=3', salary=None),\n",
       " IndeedJob(origin='https://indeed.com', title='Software Engineer', company='Warner Bros. Discovery', location='Remote in Troy, NY 12180', share_link='https://indeed.com/rc/clk?jk=2f6b693fe297e8bd&bb=fJRWveUjqp_NBU9YhKTljvmUKRJO88UmEW2x8iDH_eFH8rpQhpNBVRMJrVvrKcEKzPSB4qsLkv42SloWvH6j5jkuaU-PA0XVX7fqLITdrqQ%3D&xkcb=SoBR67M3FNKztHQVYJ0HbzkdCdPP&fccid=fdb210f6a49b1c13&vjs=3', salary='$86,100 - $159,900 a year'),\n",
       " IndeedJob(origin='https://indeed.com', title='Software Engineer II', company='Credible', location='Remote in Durham, NC', share_link='https://indeed.com/rc/clk?jk=5ac1c18a5e293a5b&bb=fJRWveUjqp_NBU9YhKTljotlJ7Vsk_viH_w7bkdOfEXyz9MxHfKySisM1FGTmAn-RPfGzCLJpc10TX8KyRA0RDW2hFTOioFU_7ZAVMnSyHY%3D&xkcb=SoDl67M3FNKztHQVYJ0GbzkdCdPP&fccid=04e8134694cdee5a&vjs=3', salary=None),\n",
       " IndeedJob(origin='https://indeed.com', title='Senior Software Engineer', company='Informdata Llc', location='Remote', share_link='https://indeed.com/rc/clk?jk=7e3c4f20404fd679&bb=fJRWveUjqp_NBU9YhKTljp1t3pweZg-YhKBINux7-kYAo2C3Cv7hcFfnnkl8fp2xtNtT0AHWdyDeilSBVvbXZ7q_-ObVPG638Irtyc9W8jc%3D&xkcb=SoB467M3FNKztHQVYJ0FbzkdCdPP&fccid=6abf4dc273ec3464&vjs=3', salary='Full-time'),\n",
       " IndeedJob(origin='https://indeed.com', title='Ruby Software Developer', company='Global Payments', location='Remote', share_link='https://indeed.com/pagead/clk?mo=r&ad=-6NYlbfkN0C1Le0lPkqCOAxAAUNx4jZXXI8jyCnUh1g6Mo42m9mXe687mbSVxovWqslsYa5HVxb4XCnL6NH1xAT83B5HFqWkRh5n1QyNWWc95DBbBXPssqorv_cGlAQMFAJoUpJ8RoxyFJ9k1n912yHLG_cscAcp4LTMBCugGNzzBLlEi18KvjjGIHBbmxCVM6buBOssSjmTjcbwc5486_ps9YHC42L1RCi-e_ex49JkS8CvM9ThEu-2eHqNIs8_sZbWK2TGsj8la-2nKf73rru9917ErcIbqYOvkYIRspG6lbAYWI7m2DxD8pptVy-eIPCZikJ8X5sQ7mYUWeMMrRvBxO0-4gvm4Cpeuvg2WaC4Med0p8vZBSZpArnxhdox2QlQtJ2D2KIfuFXfExTyhNqW0-rbQQHQj0zzvxyHtwL_xGO39T09mpKLcgVrXlLY2yja6vmEBdYkIi1_PPWSfkhIDLg8mhktIoTfkriI0Nbl2ETs0e0fZv1JxezDe9BlJM8RVxuH9I-BAFP5rbyRepve5FIJbodtLPdzlyvkMyheKtO_2YKB_-DAThK6TVswJM9wrwMuP_ASzP-zUzd81VQBVCRLYt57NrFOsw0FgqFaZyQPBpEQGA==&xkcb=SoA46_M3FNKztHQVYJ0EbzkdCdPP&p=14&fvj=1&vjs=3', salary='From $100,000 a year'),\n",
       " IndeedJob(origin='https://indeed.com', title='Load Test Engineer', company='NetDocuments', location='Remote', share_link='https://indeed.com/rc/clk?jk=52dddd99ad97eae0&bb=qUy8t5Q82XP68CysIXN7Hjn16Kwr0FapZm4_d_6k9LVdS_gm2FVX8n96yKowwNlrocvtCuBS0tlwv7xnwGQK-JXmGSMDi-yI0-wCnHGN7cU%3D&xkcb=SoCZ67M3FNKzY-QlTR0IbzkdCdPP&fccid=5a2e63ac6e479596&vjs=3', salary='Full-time'),\n",
       " IndeedJob(origin='https://indeed.com', title='Software Engineering MTS', company='Salesforce', location='Remote in Bellevue, WA 98004', share_link='https://indeed.com/rc/clk?jk=e008de85bf3c9ffa&bb=qUy8t5Q82XP68CysIXN7HhNFihspGA3EafZ_x3Lth-E-pDUtcojQ8UgLTxGBApoW6CRShRRbEv0Xw4U05mKICa97RcC63K72sfsb2AaFrZc%3D&xkcb=SoAX67M3FNKzY-QlTR0PbzkdCdPP&fccid=4027cfd917e1ee29&vjs=3', salary=None),\n",
       " IndeedJob(origin='https://indeed.com', title='QA Automation Engineer', company='Chartspan Medical Technologies Inc', location='Remote', share_link='https://indeed.com/rc/clk?jk=0a019ea585b6c3e0&bb=qUy8t5Q82XP68CysIXN7HlCURuZ_u071Kaovzyo_seT08FdUgNdpJE7hRStKPnVV45kZBx-0frswpwQc2eemS0B2GnsbxZK8mWFvKEykd7s%3D&xkcb=SoCj67M3FNKzY-QlTR0ObzkdCdPP&fccid=9654fb5c3edbfa32&vjs=3', salary=None),\n",
       " IndeedJob(origin='https://indeed.com', title='QA Analyst', company='Filevine', location='Remote in Salt Lake City, UT', share_link='https://indeed.com/rc/clk?jk=506cbbf62913404b&bb=qUy8t5Q82XP68CysIXN7HmTXPJLxP1yfNVHxAoX1zrNEZTSQ9KI6YwP_WvtgzCxEmEDUKL4thVc4eoL9rZLRzy6ULu5wLVRn4RVWgivUWlE%3D&xkcb=SoA-67M3FNKzY-QlTR0NbzkdCdPP&fccid=cbaaf6d9b36859d8&vjs=3', salary=None),\n",
       " IndeedJob(origin='https://indeed.com', title='Full Stack Engineer', company='Blockdaemon', location='Remote in New York, NY', share_link='https://indeed.com/rc/clk?jk=18515209c591e60c&bb=qUy8t5Q82XP68CysIXN7HrWiNF5MQBbhbhIhXt-fC6FiRp28LY_sYOcPZNM5ZhEUOduLpBhqkGDkt5f7oKVoHhZRa1N170JaOYtwbAEOjDs%3D&xkcb=SoCK67M3FNKzY-QlTR0MbzkdCdPP&fccid=458d3762792ba904&vjs=3', salary=None),\n",
       " IndeedJob(origin='https://indeed.com', title='Software Quality Assurance (QA) Engineer - Remote', company='Anderson Optimization', location='Remote in Boulder, CO', share_link='https://indeed.com/rc/clk?jk=815fda3cfb6e3adf&bb=qUy8t5Q82XP68CysIXN7HiSrOG5FCU6nLQ_WZw913MrqonFG1A7rA153oB2gOeVIAmjT8_3AwBJxo3DL9H-gggpiE-ls-ebnANGIwkCIdIU%3D&xkcb=SoBj67M3FNKzY-QlTR0DbzkdCdPP&fccid=5d92aa16c2bd1866&vjs=3', salary=None),\n",
       " IndeedJob(origin='https://indeed.com', title='QA Manager', company='Perry Street Software', location='Remote', share_link='https://indeed.com/rc/clk?jk=cf31aa0884b4d0a8&bb=qUy8t5Q82XP68CysIXN7Hmf3dxSG7b44QG58ZsbKEqJgAGIR-4W8aS6KGL02hZOt_BF7WJTKujCnXkCer9Vi--rNM3mWipa7DWb2REMgvik%3D&xkcb=SoDX67M3FNKzY-QlTR0CbzkdCdPP&fccid=25f3406e935c590e&vjs=3', salary='$70,000 - $80,000 a year'),\n",
       " IndeedJob(origin='https://indeed.com', title='Software Engineer', company='Priority Technology Holdings, LLC', location='Remote', share_link='https://indeed.com/rc/clk?jk=0188081008bad9d9&bb=qUy8t5Q82XP68CysIXN7Hhp98ux9FU8Pfyj-qNKRt5mEmvLs0UqJgioNenXPa9oYfJuKXscbpVKzJEwm5LUyQVJi53uW_TZ5zLMssUePZf0%3D&xkcb=SoBK67M3FNKzY-QlTR0BbzkdCdPP&fccid=05c5612f6eae0b7a&vjs=3', salary=None),\n",
       " IndeedJob(origin='https://indeed.com', title='Junior Software Engineer (Backend) (Remote)', company='Azdan', location='Remote', share_link='https://indeed.com/rc/clk?jk=d0482a4d3b53fd6b&bb=qUy8t5Q82XP68CysIXN7HgFNQMVYdKyflT6Z2Ydueq6FXG43jk0bQQmLRFWHMRrZmklhdGXKdvZRWU0rO4Fk8rdQ_wsLLTkByuBzjj4FykM%3D&xkcb=SoD-67M3FNKzY-QlTR0AbzkdCdPP&fccid=908c611c419bb8f6&vjs=3', salary=None),\n",
       " IndeedJob(origin='https://indeed.com', title='Software Engineer II', company='HealthMine Services, Inc.', location='Remote', share_link='https://indeed.com/rc/clk?jk=7ab817b2672b48bc&bb=qUy8t5Q82XP68CysIXN7Ht8bkmq3i_tXP6gVcp7WetdPIkkp9knitqOZbmV4J1hh7uWxf1PSSJBY06tuck_yYyUfX3gLU98yHegD-X-SzaE%3D&xkcb=SoBw67M3FNKzY-QlTR0HbzkdCdPP&fccid=4e7b641aa1fdcdcf&vjs=3', salary=None),\n",
       " IndeedJob(origin='https://indeed.com', title='QA Software Engineer', company='Chainlink Labs', location='Remote', share_link='https://indeed.com/rc/clk?jk=b6b2dca6cb82eede&bb=qUy8t5Q82XP68CysIXN7Hp4zn-8oxDkFlYCG4PQaPSJXpWEFJ-Hh1vT3an-y9N0B75SHd4YeX53JpqU8oXT9F8xzTI2XIyz60BaNkJ7sRMk%3D&xkcb=SoDE67M3FNKzY-QlTR0GbzkdCdPP&fccid=2f9af8183fc08763&vjs=3', salary=None),\n",
       " IndeedJob(origin='https://indeed.com', title='Staff Software Engineer - Search', company='GitHub, Inc.', location='Remote', share_link='https://indeed.com/rc/clk?jk=7f6b59782fb68e4f&bb=qUy8t5Q82XP68CysIXN7HgnW8xRbJ2AxHgaAYqqm96FS1G32oG8rvDOOZijrN9saqng01sdOWKerhz8FQJ-k-bM6gHa2-p_mtPbPgYJPNEU%3D&xkcb=SoBZ67M3FNKzY-QlTR0FbzkdCdPP&fccid=c594c442f5397e7b&vjs=3', salary='$118,100 - $313,300 a year'),\n",
       " IndeedJob(origin='https://indeed.com', title='Front End Software Engineer', company='doxo', location='Remote', share_link='https://indeed.com/rc/clk?jk=11a7646ac5f3674b&bb=qUy8t5Q82XP68CysIXN7Hhd3hs9gVhLP9VQbU243v9GGK8DkWighmCBWLiVktsSL_ge1mww4tDaC5teCCE0WGpfyHwOG1eF20XaCuAt5V0s%3D&xkcb=SoDt67M3FNKzY-QlTR0EbzkdCdPP&fccid=a1f7794c208a33a3&vjs=3', salary=None),\n",
       " IndeedJob(origin='https://indeed.com', title='Software Developer', company='Sourcigent', location='Remote', share_link='https://indeed.com/rc/clk?jk=b22a786ea71f47a3&bb=qUy8t5Q82XP68CysIXN7Hmf3dxSG7b447PMb54HyxIWeZR0VMFFvHPZepMSd29R9ClNIVmPQ7BiL9xhSVmb_6ZZOtuEdGNzWld6Kdp-4vCE%3D&xkcb=SoDK67M3FNKzY-QlTR0bbzkdCdPP&fccid=bb080d58c779a7eb&cmp=Sourcigent&ti=Software+Engineer&vjs=3', salary=None),\n",
       " IndeedJob(origin='https://indeed.com', title='Ruby Software Developer', company='Global Payments', location='Remote', share_link='https://indeed.com/pagead/clk?mo=r&ad=-6NYlbfkN0C1Le0lPkqCOAxAAUNx4jZXXI8jyCnUh1g6Mo42m9mXe687mbSVxovWqslsYa5HVxb4XCnL6NH1xAT83B5HFqWkRh5n1QyNWWc95DBbBXPssqorv_cGlAQMFAJoUpJ8RoxyFJ9k1n912yHLG_cscAcp4LTMBCugGNzzBLlEi18Kvh9WIM5nrX2gxHAYZyI1fWYPNq91-Elr2VowzZqy5P-IvlVmBHPDIIYiLadM8MXcYK5jsZTTZ54_Xbzk38R2TKctUGI4a1Dw-YjsOYm7dsx_MyPooDIitnA40m49ZIBod-dNe9FRgNSg7T8lDf-xoL6du0RtMYnxwaIPGcQo7fo1szqnUh5Hskqg_fg-7GJmnI9hwMpXQqo4d9N5re01MfMDx9ARvEV3snRhh0wPMOY8N4JVae5aOiwY9ov-3yHmNt-wlRZNWsGbSxubU4cV9WYVhdtceL_UUwz5Upv9QzBkvqt1zO9wbBEPEfEg8NL9U_3ZyyfrxVU3OkDY266I9h7Bg1Mpmp32TAZadoFcrenj5TKxFzSjNCm0FikXwMVTzmA3ER5nkE9a6JRs5FwKItxY91-t7gG7OYjJ6BsQs_rmQ_Wlhe8h4lVVHRdLkKkMdw==&xkcb=SoCK6_M3FNKzY-QlTR0abzkdCdPP&p=14&fvj=1&vjs=3', salary='From $100,000 a year')]"
      ]
     },
     "execution_count": 11,
     "metadata": {},
     "output_type": "execute_result"
    }
   ],
   "source": [
    "print(\"Total Jobs Scraped:\", len(scraped_jobs))\n",
    "scraped_jobs"
   ]
  }
 ],
 "metadata": {
  "kernelspec": {
   "display_name": ".venv",
   "language": "python",
   "name": "python3"
  },
  "language_info": {
   "codemirror_mode": {
    "name": "ipython",
    "version": 3
   },
   "file_extension": ".py",
   "mimetype": "text/x-python",
   "name": "python",
   "nbconvert_exporter": "python",
   "pygments_lexer": "ipython3",
   "version": "3.10.1"
  }
 },
 "nbformat": 4,
 "nbformat_minor": 2
}
